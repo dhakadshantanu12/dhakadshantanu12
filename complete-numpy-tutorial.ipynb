{
 "cells": [
  {
   "cell_type": "markdown",
   "id": "a7642fc7",
   "metadata": {
    "papermill": {
     "duration": 0.026086,
     "end_time": "2022-07-06T19:02:01.264756",
     "exception": false,
     "start_time": "2022-07-06T19:02:01.238670",
     "status": "completed"
    },
    "tags": []
   },
   "source": [
    "# **💥Numpy💥**"
   ]
  },
  {
   "cell_type": "markdown",
   "id": "69f7cab2",
   "metadata": {
    "papermill": {
     "duration": 0.022136,
     "end_time": "2022-07-06T19:02:01.310392",
     "exception": false,
     "start_time": "2022-07-06T19:02:01.288256",
     "status": "completed"
    },
    "tags": []
   },
   "source": [
    "#### This is the most used Python libraries for data science. NumPy consists of a powerful data structure called multidimensional arrays. Pandas is another powerful Python library that provides fast and easy data analysis platform.\n",
    "\n",
    "#### NumPy is a library written for scientific computing and data analysis. It stands for numerical python and also known as array oriented computing.\n",
    "\n",
    "#### The most basic object in NumPy is the ndarray, or simply an array which is an n-dimensional, homogeneous array. By homogenous, we mean that all the elements in a NumPy array have to be of the same data type, which is commonly numeric (float or integer).\n",
    "\n",
    "\n",
    " ## Why Numpy?\n",
    " #### Speed (so fast) and convenient\n",
    " \n",
    " #### Numpy is much faster than the standard python ways to do computations.\n",
    " \n",
    "#### Vectorised code typically does not contain explicit looping and indexing etc. (all of this happens behind the scenes, in precompiled C-code), and thus it is much more concise.\n",
    "\n",
    "#### Also, many Numpy operations are implemented in C which is basically being executed behind the scenes, avoiding the general cost of loops in Python, pointer indirection and per-element dynamic type checking. The speed boost depends on which operations you're performing.\n",
    " \n",
    "#### NumPy arrays are more compact than lists, i.e. they take much lesser storage space than lists"
   ]
  },
  {
   "cell_type": "markdown",
   "id": "9f1a727d",
   "metadata": {
    "papermill": {
     "duration": 0.022066,
     "end_time": "2022-07-06T19:02:01.355505",
     "exception": false,
     "start_time": "2022-07-06T19:02:01.333439",
     "status": "completed"
    },
    "tags": []
   },
   "source": [
    "### Firstly we will import the library (numpy) by this command"
   ]
  },
  {
   "cell_type": "code",
   "execution_count": 1,
   "id": "98b7b107",
   "metadata": {
    "execution": {
     "iopub.execute_input": "2022-07-06T19:02:01.403836Z",
     "iopub.status.busy": "2022-07-06T19:02:01.402630Z",
     "iopub.status.idle": "2022-07-06T19:02:01.417910Z",
     "shell.execute_reply": "2022-07-06T19:02:01.416827Z"
    },
    "papermill": {
     "duration": 0.042638,
     "end_time": "2022-07-06T19:02:01.420629",
     "exception": false,
     "start_time": "2022-07-06T19:02:01.377991",
     "status": "completed"
    },
    "tags": []
   },
   "outputs": [],
   "source": [
    "import numpy"
   ]
  },
  {
   "cell_type": "markdown",
   "id": "54691727",
   "metadata": {
    "papermill": {
     "duration": 0.021936,
     "end_time": "2022-07-06T19:02:01.465316",
     "exception": false,
     "start_time": "2022-07-06T19:02:01.443380",
     "status": "completed"
    },
    "tags": []
   },
   "source": [
    "### Making a numpy array by passing a list "
   ]
  },
  {
   "cell_type": "code",
   "execution_count": 2,
   "id": "522db086",
   "metadata": {
    "execution": {
     "iopub.execute_input": "2022-07-06T19:02:01.513671Z",
     "iopub.status.busy": "2022-07-06T19:02:01.512752Z",
     "iopub.status.idle": "2022-07-06T19:02:01.525034Z",
     "shell.execute_reply": "2022-07-06T19:02:01.523778Z"
    },
    "papermill": {
     "duration": 0.040416,
     "end_time": "2022-07-06T19:02:01.528070",
     "exception": false,
     "start_time": "2022-07-06T19:02:01.487654",
     "status": "completed"
    },
    "tags": []
   },
   "outputs": [
    {
     "data": {
      "text/plain": [
       "array([1, 2, 3])"
      ]
     },
     "execution_count": 2,
     "metadata": {},
     "output_type": "execute_result"
    }
   ],
   "source": [
    "numpy.array([1,2,3])"
   ]
  },
  {
   "cell_type": "code",
   "execution_count": 3,
   "id": "f98e402d",
   "metadata": {
    "execution": {
     "iopub.execute_input": "2022-07-06T19:02:01.577314Z",
     "iopub.status.busy": "2022-07-06T19:02:01.576383Z",
     "iopub.status.idle": "2022-07-06T19:02:01.582045Z",
     "shell.execute_reply": "2022-07-06T19:02:01.581054Z"
    },
    "papermill": {
     "duration": 0.033892,
     "end_time": "2022-07-06T19:02:01.584861",
     "exception": false,
     "start_time": "2022-07-06T19:02:01.550969",
     "status": "completed"
    },
    "tags": []
   },
   "outputs": [],
   "source": [
    "import numpy as np"
   ]
  },
  {
   "cell_type": "markdown",
   "id": "56bc0045",
   "metadata": {
    "papermill": {
     "duration": 0.023766,
     "end_time": "2022-07-06T19:02:01.632735",
     "exception": false,
     "start_time": "2022-07-06T19:02:01.608969",
     "status": "completed"
    },
    "tags": []
   },
   "source": [
    "### Using alias for numpy\n"
   ]
  },
  {
   "cell_type": "code",
   "execution_count": 4,
   "id": "787d4daf",
   "metadata": {
    "execution": {
     "iopub.execute_input": "2022-07-06T19:02:01.680963Z",
     "iopub.status.busy": "2022-07-06T19:02:01.680088Z",
     "iopub.status.idle": "2022-07-06T19:02:01.686052Z",
     "shell.execute_reply": "2022-07-06T19:02:01.685096Z"
    },
    "papermill": {
     "duration": 0.033134,
     "end_time": "2022-07-06T19:02:01.688651",
     "exception": false,
     "start_time": "2022-07-06T19:02:01.655517",
     "status": "completed"
    },
    "tags": []
   },
   "outputs": [],
   "source": [
    "a = np.array([1,2,3])"
   ]
  },
  {
   "cell_type": "code",
   "execution_count": 5,
   "id": "d8d27dc3",
   "metadata": {
    "execution": {
     "iopub.execute_input": "2022-07-06T19:02:01.736289Z",
     "iopub.status.busy": "2022-07-06T19:02:01.735397Z",
     "iopub.status.idle": "2022-07-06T19:02:01.742928Z",
     "shell.execute_reply": "2022-07-06T19:02:01.741835Z"
    },
    "papermill": {
     "duration": 0.034169,
     "end_time": "2022-07-06T19:02:01.745391",
     "exception": false,
     "start_time": "2022-07-06T19:02:01.711222",
     "status": "completed"
    },
    "tags": []
   },
   "outputs": [
    {
     "data": {
      "text/plain": [
       "array([1, 2, 3])"
      ]
     },
     "execution_count": 5,
     "metadata": {},
     "output_type": "execute_result"
    }
   ],
   "source": [
    "a"
   ]
  },
  {
   "cell_type": "markdown",
   "id": "7c094ba6",
   "metadata": {
    "papermill": {
     "duration": 0.02323,
     "end_time": "2022-07-06T19:02:01.790906",
     "exception": false,
     "start_time": "2022-07-06T19:02:01.767676",
     "status": "completed"
    },
    "tags": []
   },
   "source": [
    "### numpy array using list of list (2d)"
   ]
  },
  {
   "cell_type": "code",
   "execution_count": 6,
   "id": "14904b34",
   "metadata": {
    "execution": {
     "iopub.execute_input": "2022-07-06T19:02:01.839752Z",
     "iopub.status.busy": "2022-07-06T19:02:01.838853Z",
     "iopub.status.idle": "2022-07-06T19:02:01.844780Z",
     "shell.execute_reply": "2022-07-06T19:02:01.843858Z"
    },
    "papermill": {
     "duration": 0.033769,
     "end_time": "2022-07-06T19:02:01.847432",
     "exception": false,
     "start_time": "2022-07-06T19:02:01.813663",
     "status": "completed"
    },
    "tags": []
   },
   "outputs": [],
   "source": [
    "b = np.array([[1,2,3],[4,5,6]])"
   ]
  },
  {
   "cell_type": "code",
   "execution_count": 7,
   "id": "7369fec8",
   "metadata": {
    "execution": {
     "iopub.execute_input": "2022-07-06T19:02:01.895592Z",
     "iopub.status.busy": "2022-07-06T19:02:01.894647Z",
     "iopub.status.idle": "2022-07-06T19:02:01.902664Z",
     "shell.execute_reply": "2022-07-06T19:02:01.901548Z"
    },
    "papermill": {
     "duration": 0.034962,
     "end_time": "2022-07-06T19:02:01.905072",
     "exception": false,
     "start_time": "2022-07-06T19:02:01.870110",
     "status": "completed"
    },
    "tags": []
   },
   "outputs": [
    {
     "data": {
      "text/plain": [
       "array([[1, 2, 3],\n",
       "       [4, 5, 6]])"
      ]
     },
     "execution_count": 7,
     "metadata": {},
     "output_type": "execute_result"
    }
   ],
   "source": [
    "b"
   ]
  },
  {
   "cell_type": "markdown",
   "id": "579c54bb",
   "metadata": {
    "papermill": {
     "duration": 0.022903,
     "end_time": "2022-07-06T19:02:01.950601",
     "exception": false,
     "start_time": "2022-07-06T19:02:01.927698",
     "status": "completed"
    },
    "tags": []
   },
   "source": [
    "### for getting the shape of our numpy array"
   ]
  },
  {
   "cell_type": "code",
   "execution_count": 8,
   "id": "5627c3b5",
   "metadata": {
    "execution": {
     "iopub.execute_input": "2022-07-06T19:02:02.000188Z",
     "iopub.status.busy": "2022-07-06T19:02:01.999263Z",
     "iopub.status.idle": "2022-07-06T19:02:02.007251Z",
     "shell.execute_reply": "2022-07-06T19:02:02.005956Z"
    },
    "papermill": {
     "duration": 0.035088,
     "end_time": "2022-07-06T19:02:02.009791",
     "exception": false,
     "start_time": "2022-07-06T19:02:01.974703",
     "status": "completed"
    },
    "tags": []
   },
   "outputs": [
    {
     "data": {
      "text/plain": [
       "(2, 3)"
      ]
     },
     "execution_count": 8,
     "metadata": {},
     "output_type": "execute_result"
    }
   ],
   "source": [
    "b.shape"
   ]
  },
  {
   "cell_type": "code",
   "execution_count": 9,
   "id": "332eda5c",
   "metadata": {
    "execution": {
     "iopub.execute_input": "2022-07-06T19:02:02.062084Z",
     "iopub.status.busy": "2022-07-06T19:02:02.061086Z",
     "iopub.status.idle": "2022-07-06T19:02:02.069058Z",
     "shell.execute_reply": "2022-07-06T19:02:02.067960Z"
    },
    "papermill": {
     "duration": 0.038702,
     "end_time": "2022-07-06T19:02:02.071780",
     "exception": false,
     "start_time": "2022-07-06T19:02:02.033078",
     "status": "completed"
    },
    "tags": []
   },
   "outputs": [
    {
     "data": {
      "text/plain": [
       "(3,)"
      ]
     },
     "execution_count": 9,
     "metadata": {},
     "output_type": "execute_result"
    }
   ],
   "source": [
    "a.shape"
   ]
  },
  {
   "cell_type": "code",
   "execution_count": 10,
   "id": "364a9610",
   "metadata": {
    "execution": {
     "iopub.execute_input": "2022-07-06T19:02:02.120524Z",
     "iopub.status.busy": "2022-07-06T19:02:02.120058Z",
     "iopub.status.idle": "2022-07-06T19:02:02.127078Z",
     "shell.execute_reply": "2022-07-06T19:02:02.125823Z"
    },
    "papermill": {
     "duration": 0.03469,
     "end_time": "2022-07-06T19:02:02.129554",
     "exception": false,
     "start_time": "2022-07-06T19:02:02.094864",
     "status": "completed"
    },
    "tags": []
   },
   "outputs": [
    {
     "data": {
      "text/plain": [
       "dtype('int64')"
      ]
     },
     "execution_count": 10,
     "metadata": {},
     "output_type": "execute_result"
    }
   ],
   "source": [
    "b.dtype"
   ]
  },
  {
   "cell_type": "markdown",
   "id": "48a7c089",
   "metadata": {
    "papermill": {
     "duration": 0.02298,
     "end_time": "2022-07-06T19:02:02.175484",
     "exception": false,
     "start_time": "2022-07-06T19:02:02.152504",
     "status": "completed"
    },
    "tags": []
   },
   "source": [
    "### for getting the dimension of our numpy array"
   ]
  },
  {
   "cell_type": "code",
   "execution_count": 11,
   "id": "d2844dd1",
   "metadata": {
    "execution": {
     "iopub.execute_input": "2022-07-06T19:02:02.226081Z",
     "iopub.status.busy": "2022-07-06T19:02:02.224226Z",
     "iopub.status.idle": "2022-07-06T19:02:02.233703Z",
     "shell.execute_reply": "2022-07-06T19:02:02.232198Z"
    },
    "papermill": {
     "duration": 0.037788,
     "end_time": "2022-07-06T19:02:02.237073",
     "exception": false,
     "start_time": "2022-07-06T19:02:02.199285",
     "status": "completed"
    },
    "tags": []
   },
   "outputs": [
    {
     "data": {
      "text/plain": [
       "2"
      ]
     },
     "execution_count": 11,
     "metadata": {},
     "output_type": "execute_result"
    }
   ],
   "source": [
    "b.ndim"
   ]
  },
  {
   "cell_type": "code",
   "execution_count": 12,
   "id": "5e0d740a",
   "metadata": {
    "execution": {
     "iopub.execute_input": "2022-07-06T19:02:02.287440Z",
     "iopub.status.busy": "2022-07-06T19:02:02.286956Z",
     "iopub.status.idle": "2022-07-06T19:02:02.292664Z",
     "shell.execute_reply": "2022-07-06T19:02:02.291371Z"
    },
    "papermill": {
     "duration": 0.034135,
     "end_time": "2022-07-06T19:02:02.296038",
     "exception": false,
     "start_time": "2022-07-06T19:02:02.261903",
     "status": "completed"
    },
    "tags": []
   },
   "outputs": [
    {
     "name": "stdout",
     "output_type": "stream",
     "text": [
      "<class 'numpy.ndarray'>\n"
     ]
    }
   ],
   "source": [
    "print(type(a))"
   ]
  },
  {
   "cell_type": "code",
   "execution_count": 13,
   "id": "a16fa155",
   "metadata": {
    "execution": {
     "iopub.execute_input": "2022-07-06T19:02:02.344921Z",
     "iopub.status.busy": "2022-07-06T19:02:02.344169Z",
     "iopub.status.idle": "2022-07-06T19:02:02.351718Z",
     "shell.execute_reply": "2022-07-06T19:02:02.350238Z"
    },
    "papermill": {
     "duration": 0.035966,
     "end_time": "2022-07-06T19:02:02.355443",
     "exception": false,
     "start_time": "2022-07-06T19:02:02.319477",
     "status": "completed"
    },
    "tags": []
   },
   "outputs": [
    {
     "name": "stdout",
     "output_type": "stream",
     "text": [
      "<class 'numpy.ndarray'>\n"
     ]
    }
   ],
   "source": [
    "print(type(b))"
   ]
  },
  {
   "cell_type": "markdown",
   "id": "67ae0a8d",
   "metadata": {
    "papermill": {
     "duration": 0.023687,
     "end_time": "2022-07-06T19:02:02.402414",
     "exception": false,
     "start_time": "2022-07-06T19:02:02.378727",
     "status": "completed"
    },
    "tags": []
   },
   "source": [
    "###  The arange() function is used to get evenly spaced values within a given interval. Values are generated within the half-open interval [start, stop]. For integer arguments the function is equivalent to the Python built-in range function, but returns an ndarray rather than a list."
   ]
  },
  {
   "cell_type": "code",
   "execution_count": 14,
   "id": "8ca7b03a",
   "metadata": {
    "execution": {
     "iopub.execute_input": "2022-07-06T19:02:02.451601Z",
     "iopub.status.busy": "2022-07-06T19:02:02.450539Z",
     "iopub.status.idle": "2022-07-06T19:02:02.459047Z",
     "shell.execute_reply": "2022-07-06T19:02:02.458113Z"
    },
    "papermill": {
     "duration": 0.035337,
     "end_time": "2022-07-06T19:02:02.461028",
     "exception": false,
     "start_time": "2022-07-06T19:02:02.425691",
     "status": "completed"
    },
    "tags": []
   },
   "outputs": [
    {
     "data": {
      "text/plain": [
       "array([0, 1, 2, 3, 4, 5, 6, 7, 8, 9])"
      ]
     },
     "execution_count": 14,
     "metadata": {},
     "output_type": "execute_result"
    }
   ],
   "source": [
    "np.arange(10)"
   ]
  },
  {
   "cell_type": "markdown",
   "id": "340d2772",
   "metadata": {
    "papermill": {
     "duration": 0.025541,
     "end_time": "2022-07-06T19:02:02.510433",
     "exception": false,
     "start_time": "2022-07-06T19:02:02.484892",
     "status": "completed"
    },
    "tags": []
   },
   "source": [
    "# **Performance measurement**\n",
    "### I mentioned that the key advantages of numpy are convenience and speed of computation.\n",
    "\n",
    "### You'll often work with extremely large datasets, and thus it is important point for you to understand how much computation time (and memory) you can save using numpy, compared to standard python lists."
   ]
  },
  {
   "cell_type": "code",
   "execution_count": 15,
   "id": "4ef0b955",
   "metadata": {
    "execution": {
     "iopub.execute_input": "2022-07-06T19:02:02.562736Z",
     "iopub.status.busy": "2022-07-06T19:02:02.561791Z",
     "iopub.status.idle": "2022-07-06T19:02:04.862917Z",
     "shell.execute_reply": "2022-07-06T19:02:04.861236Z"
    },
    "papermill": {
     "duration": 2.330624,
     "end_time": "2022-07-06T19:02:04.866423",
     "exception": false,
     "start_time": "2022-07-06T19:02:02.535799",
     "status": "completed"
    },
    "tags": []
   },
   "outputs": [
    {
     "name": "stdout",
     "output_type": "stream",
     "text": [
      "2.82 ms ± 30.3 µs per loop (mean ± std. dev. of 7 runs, 100 loops each)\n"
     ]
    }
   ],
   "source": [
    "c = range(10000)\n",
    "%timeit [i**3 for i in c]"
   ]
  },
  {
   "cell_type": "code",
   "execution_count": 16,
   "id": "7ef285d0",
   "metadata": {
    "execution": {
     "iopub.execute_input": "2022-07-06T19:02:04.916362Z",
     "iopub.status.busy": "2022-07-06T19:02:04.915884Z",
     "iopub.status.idle": "2022-07-06T19:02:06.891523Z",
     "shell.execute_reply": "2022-07-06T19:02:06.890519Z"
    },
    "papermill": {
     "duration": 2.003983,
     "end_time": "2022-07-06T19:02:06.894431",
     "exception": false,
     "start_time": "2022-07-06T19:02:04.890448",
     "status": "completed"
    },
    "tags": []
   },
   "outputs": [
    {
     "name": "stdout",
     "output_type": "stream",
     "text": [
      "24.2 µs ± 192 ns per loop (mean ± std. dev. of 7 runs, 10000 loops each)\n"
     ]
    }
   ],
   "source": [
    "c_numpy = np.arange(10000)\n",
    "%timeit c_numpy**3"
   ]
  },
  {
   "cell_type": "markdown",
   "id": "1b05ccf7",
   "metadata": {
    "papermill": {
     "duration": 0.024699,
     "end_time": "2022-07-06T19:02:06.942480",
     "exception": false,
     "start_time": "2022-07-06T19:02:06.917781",
     "status": "completed"
    },
    "tags": []
   },
   "source": [
    "### Still not convinced? want to see one more intresting example"
   ]
  },
  {
   "cell_type": "code",
   "execution_count": 17,
   "id": "671f7fbe",
   "metadata": {
    "execution": {
     "iopub.execute_input": "2022-07-06T19:02:06.993166Z",
     "iopub.status.busy": "2022-07-06T19:02:06.992685Z",
     "iopub.status.idle": "2022-07-06T19:02:07.002310Z",
     "shell.execute_reply": "2022-07-06T19:02:07.000551Z"
    },
    "papermill": {
     "duration": 0.038658,
     "end_time": "2022-07-06T19:02:07.005819",
     "exception": false,
     "start_time": "2022-07-06T19:02:06.967161",
     "status": "completed"
    },
    "tags": []
   },
   "outputs": [],
   "source": [
    "l1 = range(10000)\n",
    "l2 = [i**2 for i in range(10000)]"
   ]
  },
  {
   "cell_type": "code",
   "execution_count": 18,
   "id": "38427dd4",
   "metadata": {
    "execution": {
     "iopub.execute_input": "2022-07-06T19:02:07.057901Z",
     "iopub.status.busy": "2022-07-06T19:02:07.057443Z",
     "iopub.status.idle": "2022-07-06T19:02:16.057294Z",
     "shell.execute_reply": "2022-07-06T19:02:16.055931Z"
    },
    "papermill": {
     "duration": 9.03076,
     "end_time": "2022-07-06T19:02:16.060434",
     "exception": false,
     "start_time": "2022-07-06T19:02:07.029674",
     "status": "completed"
    },
    "tags": []
   },
   "outputs": [
    {
     "name": "stdout",
     "output_type": "stream",
     "text": [
      "1.11 ms ± 28.7 µs per loop (mean ± std. dev. of 7 runs, 1000 loops each)\n"
     ]
    }
   ],
   "source": [
    "%timeit list(map(lambda x, y: x*y, l1, l2))"
   ]
  },
  {
   "cell_type": "code",
   "execution_count": 19,
   "id": "8816c105",
   "metadata": {
    "execution": {
     "iopub.execute_input": "2022-07-06T19:02:16.110925Z",
     "iopub.status.busy": "2022-07-06T19:02:16.110453Z",
     "iopub.status.idle": "2022-07-06T19:02:16.117835Z",
     "shell.execute_reply": "2022-07-06T19:02:16.116357Z"
    },
    "papermill": {
     "duration": 0.035693,
     "end_time": "2022-07-06T19:02:16.120324",
     "exception": false,
     "start_time": "2022-07-06T19:02:16.084631",
     "status": "completed"
    },
    "tags": []
   },
   "outputs": [],
   "source": [
    "a1 = np.array(l1)\n",
    "b1 = np.array(l2)"
   ]
  },
  {
   "cell_type": "code",
   "execution_count": 20,
   "id": "6a13bd87",
   "metadata": {
    "execution": {
     "iopub.execute_input": "2022-07-06T19:02:16.170077Z",
     "iopub.status.busy": "2022-07-06T19:02:16.169547Z",
     "iopub.status.idle": "2022-07-06T19:02:21.072250Z",
     "shell.execute_reply": "2022-07-06T19:02:21.070758Z"
    },
    "papermill": {
     "duration": 4.930725,
     "end_time": "2022-07-06T19:02:21.075001",
     "exception": false,
     "start_time": "2022-07-06T19:02:16.144276",
     "status": "completed"
    },
    "tags": []
   },
   "outputs": [
    {
     "name": "stdout",
     "output_type": "stream",
     "text": [
      "6.05 µs ± 98.4 ns per loop (mean ± std. dev. of 7 runs, 100000 loops each)\n"
     ]
    }
   ],
   "source": [
    "%timeit a1*b1"
   ]
  },
  {
   "cell_type": "code",
   "execution_count": 21,
   "id": "e1cff598",
   "metadata": {
    "execution": {
     "iopub.execute_input": "2022-07-06T19:02:21.125736Z",
     "iopub.status.busy": "2022-07-06T19:02:21.124922Z",
     "iopub.status.idle": "2022-07-06T19:02:21.132372Z",
     "shell.execute_reply": "2022-07-06T19:02:21.131117Z"
    },
    "papermill": {
     "duration": 0.036028,
     "end_time": "2022-07-06T19:02:21.134860",
     "exception": false,
     "start_time": "2022-07-06T19:02:21.098832",
     "status": "completed"
    },
    "tags": []
   },
   "outputs": [
    {
     "data": {
      "text/plain": [
       "array([   0,    1,    2, ..., 9997, 9998, 9999])"
      ]
     },
     "execution_count": 21,
     "metadata": {},
     "output_type": "execute_result"
    }
   ],
   "source": [
    "a1"
   ]
  },
  {
   "cell_type": "code",
   "execution_count": 22,
   "id": "96a0605e",
   "metadata": {
    "execution": {
     "iopub.execute_input": "2022-07-06T19:02:21.185464Z",
     "iopub.status.busy": "2022-07-06T19:02:21.184656Z",
     "iopub.status.idle": "2022-07-06T19:02:21.191682Z",
     "shell.execute_reply": "2022-07-06T19:02:21.190668Z"
    },
    "papermill": {
     "duration": 0.03518,
     "end_time": "2022-07-06T19:02:21.193884",
     "exception": false,
     "start_time": "2022-07-06T19:02:21.158704",
     "status": "completed"
    },
    "tags": []
   },
   "outputs": [
    {
     "data": {
      "text/plain": [
       "array([       0,        1,        4, ..., 99940009, 99960004, 99980001])"
      ]
     },
     "execution_count": 22,
     "metadata": {},
     "output_type": "execute_result"
    }
   ],
   "source": [
    "a1 * a1"
   ]
  },
  {
   "cell_type": "markdown",
   "id": "ebdb80bc",
   "metadata": {
    "papermill": {
     "duration": 0.023513,
     "end_time": "2022-07-06T19:02:21.241693",
     "exception": false,
     "start_time": "2022-07-06T19:02:21.218180",
     "status": "completed"
    },
    "tags": []
   },
   "source": [
    "so I can do everything without even writing a loop? yes... ohh wao"
   ]
  },
  {
   "cell_type": "markdown",
   "id": "b7b2a0c7",
   "metadata": {
    "papermill": {
     "duration": 0.023415,
     "end_time": "2022-07-06T19:02:21.289511",
     "exception": false,
     "start_time": "2022-07-06T19:02:21.266096",
     "status": "completed"
    },
    "tags": []
   },
   "source": [
    "# **Creating Numpy array**\n",
    "\n",
    "### There are multiple ways to create numpy array. Lets walk over them"
   ]
  },
  {
   "cell_type": "code",
   "execution_count": 23,
   "id": "bd194e37",
   "metadata": {
    "execution": {
     "iopub.execute_input": "2022-07-06T19:02:21.339257Z",
     "iopub.status.busy": "2022-07-06T19:02:21.338823Z",
     "iopub.status.idle": "2022-07-06T19:02:21.345454Z",
     "shell.execute_reply": "2022-07-06T19:02:21.344251Z"
    },
    "papermill": {
     "duration": 0.034596,
     "end_time": "2022-07-06T19:02:21.347817",
     "exception": false,
     "start_time": "2022-07-06T19:02:21.313221",
     "status": "completed"
    },
    "tags": []
   },
   "outputs": [
    {
     "data": {
      "text/plain": [
       "array([ 2,  3,  4,  5,  6,  7,  8,  9, 10, 11])"
      ]
     },
     "execution_count": 23,
     "metadata": {},
     "output_type": "execute_result"
    }
   ],
   "source": [
    "np.arange(2,12)"
   ]
  },
  {
   "cell_type": "markdown",
   "id": "70259e2d",
   "metadata": {
    "papermill": {
     "duration": 0.024122,
     "end_time": "2022-07-06T19:02:21.396571",
     "exception": false,
     "start_time": "2022-07-06T19:02:21.372449",
     "status": "completed"
    },
    "tags": []
   },
   "source": []
  },
  {
   "cell_type": "markdown",
   "id": "c9781787",
   "metadata": {
    "papermill": {
     "duration": 0.024149,
     "end_time": "2022-07-06T19:02:21.445339",
     "exception": false,
     "start_time": "2022-07-06T19:02:21.421190",
     "status": "completed"
    },
    "tags": []
   },
   "source": [
    "### It will arrange the values in the interval of 2 between 2 and 12"
   ]
  },
  {
   "cell_type": "code",
   "execution_count": 24,
   "id": "3e417be1",
   "metadata": {
    "execution": {
     "iopub.execute_input": "2022-07-06T19:02:21.496845Z",
     "iopub.status.busy": "2022-07-06T19:02:21.496046Z",
     "iopub.status.idle": "2022-07-06T19:02:21.502176Z",
     "shell.execute_reply": "2022-07-06T19:02:21.501371Z"
    },
    "papermill": {
     "duration": 0.033666,
     "end_time": "2022-07-06T19:02:21.504177",
     "exception": false,
     "start_time": "2022-07-06T19:02:21.470511",
     "status": "completed"
    },
    "tags": []
   },
   "outputs": [
    {
     "data": {
      "text/plain": [
       "array([ 2,  4,  6,  8, 10])"
      ]
     },
     "execution_count": 24,
     "metadata": {},
     "output_type": "execute_result"
    }
   ],
   "source": [
    "np.arange(2,12,2)"
   ]
  },
  {
   "cell_type": "markdown",
   "id": "24d68287",
   "metadata": {
    "papermill": {
     "duration": 0.023813,
     "end_time": "2022-07-06T19:02:21.551749",
     "exception": false,
     "start_time": "2022-07-06T19:02:21.527936",
     "status": "completed"
    },
    "tags": []
   },
   "source": [
    "### zeros() function is one of the most significant functions which is used in machine learning programs widely. This function is used to generate an array containing zeros. The numpy. zeros() function provide a new array of given shape and type, which is filled with zeros."
   ]
  },
  {
   "cell_type": "code",
   "execution_count": 25,
   "id": "cbb31194",
   "metadata": {
    "execution": {
     "iopub.execute_input": "2022-07-06T19:02:21.604170Z",
     "iopub.status.busy": "2022-07-06T19:02:21.603169Z",
     "iopub.status.idle": "2022-07-06T19:02:21.611592Z",
     "shell.execute_reply": "2022-07-06T19:02:21.610132Z"
    },
    "papermill": {
     "duration": 0.037687,
     "end_time": "2022-07-06T19:02:21.614416",
     "exception": false,
     "start_time": "2022-07-06T19:02:21.576729",
     "status": "completed"
    },
    "tags": []
   },
   "outputs": [
    {
     "data": {
      "text/plain": [
       "array([[0., 0.],\n",
       "       [0., 0.],\n",
       "       [0., 0.]])"
      ]
     },
     "execution_count": 25,
     "metadata": {},
     "output_type": "execute_result"
    }
   ],
   "source": [
    "np.zeros((3,2))"
   ]
  },
  {
   "cell_type": "markdown",
   "id": "7a4842a8",
   "metadata": {
    "papermill": {
     "duration": 0.023819,
     "end_time": "2022-07-06T19:02:21.663177",
     "exception": false,
     "start_time": "2022-07-06T19:02:21.639358",
     "status": "completed"
    },
    "tags": []
   },
   "source": [
    "### Python numpy. ones() function returns a new array of given shape and data type, where the element's value is set to 1. This function is very similar to numpy zeros() function"
   ]
  },
  {
   "cell_type": "code",
   "execution_count": 26,
   "id": "4cd7c7bc",
   "metadata": {
    "execution": {
     "iopub.execute_input": "2022-07-06T19:02:21.713601Z",
     "iopub.status.busy": "2022-07-06T19:02:21.712708Z",
     "iopub.status.idle": "2022-07-06T19:02:21.719497Z",
     "shell.execute_reply": "2022-07-06T19:02:21.718597Z"
    },
    "papermill": {
     "duration": 0.034878,
     "end_time": "2022-07-06T19:02:21.721951",
     "exception": false,
     "start_time": "2022-07-06T19:02:21.687073",
     "status": "completed"
    },
    "tags": []
   },
   "outputs": [
    {
     "data": {
      "text/plain": [
       "array([[1., 1.],\n",
       "       [1., 1.],\n",
       "       [1., 1.]])"
      ]
     },
     "execution_count": 26,
     "metadata": {},
     "output_type": "execute_result"
    }
   ],
   "source": [
    "np.ones((3,2))"
   ]
  },
  {
   "cell_type": "markdown",
   "id": "345e680b",
   "metadata": {
    "papermill": {
     "duration": 0.024946,
     "end_time": "2022-07-06T19:02:21.771424",
     "exception": false,
     "start_time": "2022-07-06T19:02:21.746478",
     "status": "completed"
    },
    "tags": []
   },
   "source": [
    "### An array where all elements are equal to zero, except for the k-th diagonal, whose values are equal to one.\n"
   ]
  },
  {
   "cell_type": "code",
   "execution_count": 27,
   "id": "0ce068fe",
   "metadata": {
    "execution": {
     "iopub.execute_input": "2022-07-06T19:02:21.825190Z",
     "iopub.status.busy": "2022-07-06T19:02:21.824312Z",
     "iopub.status.idle": "2022-07-06T19:02:21.831522Z",
     "shell.execute_reply": "2022-07-06T19:02:21.830307Z"
    },
    "papermill": {
     "duration": 0.037039,
     "end_time": "2022-07-06T19:02:21.834140",
     "exception": false,
     "start_time": "2022-07-06T19:02:21.797101",
     "status": "completed"
    },
    "tags": []
   },
   "outputs": [
    {
     "data": {
      "text/plain": [
       "array([[1., 0., 0.],\n",
       "       [0., 1., 0.],\n",
       "       [0., 0., 1.]])"
      ]
     },
     "execution_count": 27,
     "metadata": {},
     "output_type": "execute_result"
    }
   ],
   "source": [
    "np.eye(3)"
   ]
  },
  {
   "cell_type": "markdown",
   "id": "6b6ce0d3",
   "metadata": {
    "papermill": {
     "duration": 0.025465,
     "end_time": "2022-07-06T19:02:21.885097",
     "exception": false,
     "start_time": "2022-07-06T19:02:21.859632",
     "status": "completed"
    },
    "tags": []
   },
   "source": [
    "### full() function is used to return a new array of a given shape and data type filled with fill_value "
   ]
  },
  {
   "cell_type": "code",
   "execution_count": 28,
   "id": "1d6ae8bb",
   "metadata": {
    "execution": {
     "iopub.execute_input": "2022-07-06T19:02:21.936566Z",
     "iopub.status.busy": "2022-07-06T19:02:21.936106Z",
     "iopub.status.idle": "2022-07-06T19:02:21.943808Z",
     "shell.execute_reply": "2022-07-06T19:02:21.942379Z"
    },
    "papermill": {
     "duration": 0.036511,
     "end_time": "2022-07-06T19:02:21.946632",
     "exception": false,
     "start_time": "2022-07-06T19:02:21.910121",
     "status": "completed"
    },
    "tags": []
   },
   "outputs": [
    {
     "data": {
      "text/plain": [
       "array([[2, 2, 2],\n",
       "       [2, 2, 2],\n",
       "       [2, 2, 2]])"
      ]
     },
     "execution_count": 28,
     "metadata": {},
     "output_type": "execute_result"
    }
   ],
   "source": [
    "np.full((3,3),2)"
   ]
  },
  {
   "cell_type": "code",
   "execution_count": 29,
   "id": "d2e19302",
   "metadata": {
    "execution": {
     "iopub.execute_input": "2022-07-06T19:02:21.999627Z",
     "iopub.status.busy": "2022-07-06T19:02:21.998297Z",
     "iopub.status.idle": "2022-07-06T19:02:22.007992Z",
     "shell.execute_reply": "2022-07-06T19:02:22.006256Z"
    },
    "papermill": {
     "duration": 0.037991,
     "end_time": "2022-07-06T19:02:22.010449",
     "exception": false,
     "start_time": "2022-07-06T19:02:21.972458",
     "status": "completed"
    },
    "tags": []
   },
   "outputs": [
    {
     "name": "stderr",
     "output_type": "stream",
     "text": [
      "/opt/conda/lib/python3.7/site-packages/ipykernel_launcher.py:1: DeprecationWarning: `np.int` is a deprecated alias for the builtin `int`. To silence this warning, use `int` by itself. Doing this will not modify any behavior and is safe. When replacing `np.int`, you may wish to use e.g. `np.int64` or `np.int32` to specify the precision. If you wish to review your current use, check the release note link for additional information.\n",
      "Deprecated in NumPy 1.20; for more details and guidance: https://numpy.org/devdocs/release/1.20.0-notes.html#deprecations\n",
      "  \"\"\"Entry point for launching an IPython kernel.\n"
     ]
    },
    {
     "data": {
      "text/plain": [
       "array([[2, 2, 2],\n",
       "       [2, 2, 2],\n",
       "       [2, 2, 2]])"
      ]
     },
     "execution_count": 29,
     "metadata": {},
     "output_type": "execute_result"
    }
   ],
   "source": [
    "np.full((3,3),2.2, dtype= np.int)"
   ]
  },
  {
   "cell_type": "markdown",
   "id": "e9968fd3",
   "metadata": {
    "papermill": {
     "duration": 0.024846,
     "end_time": "2022-07-06T19:02:22.059838",
     "exception": false,
     "start_time": "2022-07-06T19:02:22.034992",
     "status": "completed"
    },
    "tags": []
   },
   "source": [
    "### diag() function. The diag() function is used to extract a diagonal or construct a diagonal array."
   ]
  },
  {
   "cell_type": "code",
   "execution_count": 30,
   "id": "4cfef571",
   "metadata": {
    "execution": {
     "iopub.execute_input": "2022-07-06T19:02:22.111924Z",
     "iopub.status.busy": "2022-07-06T19:02:22.110786Z",
     "iopub.status.idle": "2022-07-06T19:02:22.118988Z",
     "shell.execute_reply": "2022-07-06T19:02:22.118083Z"
    },
    "papermill": {
     "duration": 0.036817,
     "end_time": "2022-07-06T19:02:22.121427",
     "exception": false,
     "start_time": "2022-07-06T19:02:22.084610",
     "status": "completed"
    },
    "tags": []
   },
   "outputs": [
    {
     "data": {
      "text/plain": [
       "array([[1, 0, 0, 0, 0],\n",
       "       [0, 2, 0, 0, 0],\n",
       "       [0, 0, 3, 0, 0],\n",
       "       [0, 0, 0, 4, 0],\n",
       "       [0, 0, 0, 0, 5]])"
      ]
     },
     "execution_count": 30,
     "metadata": {},
     "output_type": "execute_result"
    }
   ],
   "source": [
    "np.diag([1,2,3,4,5])"
   ]
  },
  {
   "cell_type": "code",
   "execution_count": 31,
   "id": "79485d2a",
   "metadata": {
    "execution": {
     "iopub.execute_input": "2022-07-06T19:02:22.174056Z",
     "iopub.status.busy": "2022-07-06T19:02:22.172655Z",
     "iopub.status.idle": "2022-07-06T19:02:22.180952Z",
     "shell.execute_reply": "2022-07-06T19:02:22.179446Z"
    },
    "papermill": {
     "duration": 0.03711,
     "end_time": "2022-07-06T19:02:22.183501",
     "exception": false,
     "start_time": "2022-07-06T19:02:22.146391",
     "status": "completed"
    },
    "tags": []
   },
   "outputs": [
    {
     "data": {
      "text/plain": [
       "array([[1, 2, 3],\n",
       "       [1, 2, 3],\n",
       "       [1, 2, 3]])"
      ]
     },
     "execution_count": 31,
     "metadata": {},
     "output_type": "execute_result"
    }
   ],
   "source": [
    "v = np.array([1,2,3])\n",
    "np.tile(v,(3,1)) # stack 3 copies of v on top of each other"
   ]
  },
  {
   "cell_type": "markdown",
   "id": "37dd9994",
   "metadata": {
    "papermill": {
     "duration": 0.024955,
     "end_time": "2022-07-06T19:02:22.233173",
     "exception": false,
     "start_time": "2022-07-06T19:02:22.208218",
     "status": "completed"
    },
    "tags": []
   },
   "source": [
    "### Python Random module is an in-built module of Python which is used to generate random numbers. These are pseudo-random numbers means these are not truly random. This module can be used to perform random actions such as generating random numbers, print random a value for a list or string, etc.\n"
   ]
  },
  {
   "cell_type": "code",
   "execution_count": 32,
   "id": "9e7b712e",
   "metadata": {
    "execution": {
     "iopub.execute_input": "2022-07-06T19:02:22.284687Z",
     "iopub.status.busy": "2022-07-06T19:02:22.284165Z",
     "iopub.status.idle": "2022-07-06T19:02:22.291584Z",
     "shell.execute_reply": "2022-07-06T19:02:22.290325Z"
    },
    "papermill": {
     "duration": 0.03606,
     "end_time": "2022-07-06T19:02:22.294114",
     "exception": false,
     "start_time": "2022-07-06T19:02:22.258054",
     "status": "completed"
    },
    "tags": []
   },
   "outputs": [
    {
     "data": {
      "text/plain": [
       "0.5777658619963024"
      ]
     },
     "execution_count": 32,
     "metadata": {},
     "output_type": "execute_result"
    }
   ],
   "source": [
    "\n",
    "# between 0 and 1\n",
    "np.random.random()"
   ]
  },
  {
   "cell_type": "code",
   "execution_count": 33,
   "id": "4c7054a7",
   "metadata": {
    "execution": {
     "iopub.execute_input": "2022-07-06T19:02:22.345639Z",
     "iopub.status.busy": "2022-07-06T19:02:22.344943Z",
     "iopub.status.idle": "2022-07-06T19:02:22.352564Z",
     "shell.execute_reply": "2022-07-06T19:02:22.351466Z"
    },
    "papermill": {
     "duration": 0.036395,
     "end_time": "2022-07-06T19:02:22.354971",
     "exception": false,
     "start_time": "2022-07-06T19:02:22.318576",
     "status": "completed"
    },
    "tags": []
   },
   "outputs": [
    {
     "data": {
      "text/plain": [
       "12.526618683771444"
      ]
     },
     "execution_count": 33,
     "metadata": {},
     "output_type": "execute_result"
    }
   ],
   "source": [
    "# so let say I want a random value between 2 and 50\n",
    "50*np.random.random()+2"
   ]
  },
  {
   "cell_type": "code",
   "execution_count": 34,
   "id": "220539b9",
   "metadata": {
    "execution": {
     "iopub.execute_input": "2022-07-06T19:02:22.406898Z",
     "iopub.status.busy": "2022-07-06T19:02:22.405946Z",
     "iopub.status.idle": "2022-07-06T19:02:22.413865Z",
     "shell.execute_reply": "2022-07-06T19:02:22.413064Z"
    },
    "papermill": {
     "duration": 0.036346,
     "end_time": "2022-07-06T19:02:22.416063",
     "exception": false,
     "start_time": "2022-07-06T19:02:22.379717",
     "status": "completed"
    },
    "tags": []
   },
   "outputs": [
    {
     "data": {
      "text/plain": [
       "array([[0.05747509, 0.99068139, 0.85679181],\n",
       "       [0.79417356, 0.00278866, 0.89254655],\n",
       "       [0.85632188, 0.46626774, 0.4082704 ]])"
      ]
     },
     "execution_count": 34,
     "metadata": {},
     "output_type": "execute_result"
    }
   ],
   "source": [
    "np.random.random([3,3])"
   ]
  },
  {
   "cell_type": "code",
   "execution_count": 35,
   "id": "52beb093",
   "metadata": {
    "execution": {
     "iopub.execute_input": "2022-07-06T19:02:22.467790Z",
     "iopub.status.busy": "2022-07-06T19:02:22.466954Z",
     "iopub.status.idle": "2022-07-06T19:02:22.472672Z",
     "shell.execute_reply": "2022-07-06T19:02:22.471751Z"
    },
    "papermill": {
     "duration": 0.034445,
     "end_time": "2022-07-06T19:02:22.475330",
     "exception": false,
     "start_time": "2022-07-06T19:02:22.440885",
     "status": "completed"
    },
    "tags": []
   },
   "outputs": [],
   "source": [
    "# 100 values between 1 and 50\n",
    "a = np.linspace(1,50,100)"
   ]
  },
  {
   "cell_type": "code",
   "execution_count": 36,
   "id": "821b2820",
   "metadata": {
    "execution": {
     "iopub.execute_input": "2022-07-06T19:02:22.527714Z",
     "iopub.status.busy": "2022-07-06T19:02:22.527242Z",
     "iopub.status.idle": "2022-07-06T19:02:22.535145Z",
     "shell.execute_reply": "2022-07-06T19:02:22.533983Z"
    },
    "papermill": {
     "duration": 0.037026,
     "end_time": "2022-07-06T19:02:22.537348",
     "exception": false,
     "start_time": "2022-07-06T19:02:22.500322",
     "status": "completed"
    },
    "tags": []
   },
   "outputs": [
    {
     "data": {
      "text/plain": [
       "array([ 1.        ,  1.49494949,  1.98989899,  2.48484848,  2.97979798,\n",
       "        3.47474747,  3.96969697,  4.46464646,  4.95959596,  5.45454545,\n",
       "        5.94949495,  6.44444444,  6.93939394,  7.43434343,  7.92929293,\n",
       "        8.42424242,  8.91919192,  9.41414141,  9.90909091, 10.4040404 ,\n",
       "       10.8989899 , 11.39393939, 11.88888889, 12.38383838, 12.87878788,\n",
       "       13.37373737, 13.86868687, 14.36363636, 14.85858586, 15.35353535,\n",
       "       15.84848485, 16.34343434, 16.83838384, 17.33333333, 17.82828283,\n",
       "       18.32323232, 18.81818182, 19.31313131, 19.80808081, 20.3030303 ,\n",
       "       20.7979798 , 21.29292929, 21.78787879, 22.28282828, 22.77777778,\n",
       "       23.27272727, 23.76767677, 24.26262626, 24.75757576, 25.25252525,\n",
       "       25.74747475, 26.24242424, 26.73737374, 27.23232323, 27.72727273,\n",
       "       28.22222222, 28.71717172, 29.21212121, 29.70707071, 30.2020202 ,\n",
       "       30.6969697 , 31.19191919, 31.68686869, 32.18181818, 32.67676768,\n",
       "       33.17171717, 33.66666667, 34.16161616, 34.65656566, 35.15151515,\n",
       "       35.64646465, 36.14141414, 36.63636364, 37.13131313, 37.62626263,\n",
       "       38.12121212, 38.61616162, 39.11111111, 39.60606061, 40.1010101 ,\n",
       "       40.5959596 , 41.09090909, 41.58585859, 42.08080808, 42.57575758,\n",
       "       43.07070707, 43.56565657, 44.06060606, 44.55555556, 45.05050505,\n",
       "       45.54545455, 46.04040404, 46.53535354, 47.03030303, 47.52525253,\n",
       "       48.02020202, 48.51515152, 49.01010101, 49.50505051, 50.        ])"
      ]
     },
     "execution_count": 36,
     "metadata": {},
     "output_type": "execute_result"
    }
   ],
   "source": [
    "a"
   ]
  },
  {
   "cell_type": "code",
   "execution_count": 37,
   "id": "104eed78",
   "metadata": {
    "execution": {
     "iopub.execute_input": "2022-07-06T19:02:22.590178Z",
     "iopub.status.busy": "2022-07-06T19:02:22.589661Z",
     "iopub.status.idle": "2022-07-06T19:02:22.595707Z",
     "shell.execute_reply": "2022-07-06T19:02:22.594825Z"
    },
    "papermill": {
     "duration": 0.035306,
     "end_time": "2022-07-06T19:02:22.597848",
     "exception": false,
     "start_time": "2022-07-06T19:02:22.562542",
     "status": "completed"
    },
    "tags": []
   },
   "outputs": [
    {
     "data": {
      "text/plain": [
       "8"
      ]
     },
     "execution_count": 37,
     "metadata": {},
     "output_type": "execute_result"
    }
   ],
   "source": [
    "#memory used by each array element in bytes\n",
    "a.itemsize"
   ]
  },
  {
   "cell_type": "code",
   "execution_count": 38,
   "id": "0c6ec212",
   "metadata": {
    "execution": {
     "iopub.execute_input": "2022-07-06T19:02:22.652639Z",
     "iopub.status.busy": "2022-07-06T19:02:22.651554Z",
     "iopub.status.idle": "2022-07-06T19:02:22.659545Z",
     "shell.execute_reply": "2022-07-06T19:02:22.658556Z"
    },
    "papermill": {
     "duration": 0.037293,
     "end_time": "2022-07-06T19:02:22.661814",
     "exception": false,
     "start_time": "2022-07-06T19:02:22.624521",
     "status": "completed"
    },
    "tags": []
   },
   "outputs": [
    {
     "data": {
      "text/plain": [
       "array([ 0,  1,  2,  3,  4,  5,  6,  7,  8,  9, 10, 11, 12, 13, 14, 15, 16,\n",
       "       17, 18, 19, 20, 21, 22, 23])"
      ]
     },
     "execution_count": 38,
     "metadata": {},
     "output_type": "execute_result"
    }
   ],
   "source": [
    "np.arange(24)"
   ]
  },
  {
   "cell_type": "markdown",
   "id": "56dab493",
   "metadata": {
    "papermill": {
     "duration": 0.025616,
     "end_time": "2022-07-06T19:02:22.712981",
     "exception": false,
     "start_time": "2022-07-06T19:02:22.687365",
     "status": "completed"
    },
    "tags": []
   },
   "source": [
    "### getting 18 equaly spaced number and then reshaping the araay in (2,3,3) shape"
   ]
  },
  {
   "cell_type": "code",
   "execution_count": 39,
   "id": "79484765",
   "metadata": {
    "execution": {
     "iopub.execute_input": "2022-07-06T19:02:22.767053Z",
     "iopub.status.busy": "2022-07-06T19:02:22.766192Z",
     "iopub.status.idle": "2022-07-06T19:02:22.773041Z",
     "shell.execute_reply": "2022-07-06T19:02:22.772111Z"
    },
    "papermill": {
     "duration": 0.036877,
     "end_time": "2022-07-06T19:02:22.775363",
     "exception": false,
     "start_time": "2022-07-06T19:02:22.738486",
     "status": "completed"
    },
    "tags": []
   },
   "outputs": [
    {
     "data": {
      "text/plain": [
       "array([[[ 0,  1,  2],\n",
       "        [ 3,  4,  5],\n",
       "        [ 6,  7,  8]],\n",
       "\n",
       "       [[ 9, 10, 11],\n",
       "        [12, 13, 14],\n",
       "        [15, 16, 17]]])"
      ]
     },
     "execution_count": 39,
     "metadata": {},
     "output_type": "execute_result"
    }
   ],
   "source": [
    "np.arange(18).reshape(2,3,3)"
   ]
  },
  {
   "cell_type": "code",
   "execution_count": 40,
   "id": "a2f4bd1f",
   "metadata": {
    "execution": {
     "iopub.execute_input": "2022-07-06T19:02:22.831315Z",
     "iopub.status.busy": "2022-07-06T19:02:22.830321Z",
     "iopub.status.idle": "2022-07-06T19:02:22.838017Z",
     "shell.execute_reply": "2022-07-06T19:02:22.836880Z"
    },
    "papermill": {
     "duration": 0.039653,
     "end_time": "2022-07-06T19:02:22.840547",
     "exception": false,
     "start_time": "2022-07-06T19:02:22.800894",
     "status": "completed"
    },
    "tags": []
   },
   "outputs": [
    {
     "data": {
      "text/plain": [
       "array([[[ 0,  1,  2],\n",
       "        [ 3,  4,  5],\n",
       "        [ 6,  7,  8]],\n",
       "\n",
       "       [[ 9, 10, 11],\n",
       "        [12, 13, 14],\n",
       "        [15, 16, 17]]])"
      ]
     },
     "execution_count": 40,
     "metadata": {},
     "output_type": "execute_result"
    }
   ],
   "source": [
    "# -1 will automatically adjust dimention\n",
    "np.arange(18).reshape(2,3,-1)"
   ]
  },
  {
   "cell_type": "markdown",
   "id": "1297beeb",
   "metadata": {
    "papermill": {
     "duration": 0.025265,
     "end_time": "2022-07-06T19:02:22.891552",
     "exception": false,
     "start_time": "2022-07-06T19:02:22.866287",
     "status": "completed"
    },
    "tags": []
   },
   "source": [
    "# **Accessing Numpy array element**"
   ]
  },
  {
   "cell_type": "code",
   "execution_count": 41,
   "id": "9d9e0884",
   "metadata": {
    "execution": {
     "iopub.execute_input": "2022-07-06T19:02:22.945878Z",
     "iopub.status.busy": "2022-07-06T19:02:22.944771Z",
     "iopub.status.idle": "2022-07-06T19:02:22.950154Z",
     "shell.execute_reply": "2022-07-06T19:02:22.949245Z"
    },
    "papermill": {
     "duration": 0.034741,
     "end_time": "2022-07-06T19:02:22.952507",
     "exception": false,
     "start_time": "2022-07-06T19:02:22.917766",
     "status": "completed"
    },
    "tags": []
   },
   "outputs": [],
   "source": [
    "a = np.array([2,4,6,8,10,12,14,16])"
   ]
  },
  {
   "cell_type": "code",
   "execution_count": 42,
   "id": "828fef34",
   "metadata": {
    "execution": {
     "iopub.execute_input": "2022-07-06T19:02:23.007102Z",
     "iopub.status.busy": "2022-07-06T19:02:23.006571Z",
     "iopub.status.idle": "2022-07-06T19:02:23.013784Z",
     "shell.execute_reply": "2022-07-06T19:02:23.012822Z"
    },
    "papermill": {
     "duration": 0.037551,
     "end_time": "2022-07-06T19:02:23.015821",
     "exception": false,
     "start_time": "2022-07-06T19:02:22.978270",
     "status": "completed"
    },
    "tags": []
   },
   "outputs": [
    {
     "data": {
      "text/plain": [
       "array([ 2,  4,  6,  8, 10, 12, 14, 16])"
      ]
     },
     "execution_count": 42,
     "metadata": {},
     "output_type": "execute_result"
    }
   ],
   "source": [
    "a"
   ]
  },
  {
   "cell_type": "markdown",
   "id": "d4641858",
   "metadata": {
    "papermill": {
     "duration": 0.025272,
     "end_time": "2022-07-06T19:02:23.067087",
     "exception": false,
     "start_time": "2022-07-06T19:02:23.041815",
     "status": "completed"
    },
    "tags": []
   },
   "source": [
    "### by providing [2] we will access to 3rd element of our numpy array as the index number starts from 0 goes till n-1"
   ]
  },
  {
   "cell_type": "code",
   "execution_count": 43,
   "id": "6c20f164",
   "metadata": {
    "execution": {
     "iopub.execute_input": "2022-07-06T19:02:23.121713Z",
     "iopub.status.busy": "2022-07-06T19:02:23.120825Z",
     "iopub.status.idle": "2022-07-06T19:02:23.128065Z",
     "shell.execute_reply": "2022-07-06T19:02:23.126821Z"
    },
    "papermill": {
     "duration": 0.037417,
     "end_time": "2022-07-06T19:02:23.130907",
     "exception": false,
     "start_time": "2022-07-06T19:02:23.093490",
     "status": "completed"
    },
    "tags": []
   },
   "outputs": [
    {
     "data": {
      "text/plain": [
       "6"
      ]
     },
     "execution_count": 43,
     "metadata": {},
     "output_type": "execute_result"
    }
   ],
   "source": [
    "a[2]"
   ]
  },
  {
   "cell_type": "markdown",
   "id": "b274af42",
   "metadata": {
    "papermill": {
     "duration": 0.02528,
     "end_time": "2022-07-06T19:02:23.182221",
     "exception": false,
     "start_time": "2022-07-06T19:02:23.156941",
     "status": "completed"
    },
    "tags": []
   },
   "source": [
    "### accessing the 3rd 5th and 7th element of the array"
   ]
  },
  {
   "cell_type": "code",
   "execution_count": 44,
   "id": "5a32a85b",
   "metadata": {
    "execution": {
     "iopub.execute_input": "2022-07-06T19:02:23.236886Z",
     "iopub.status.busy": "2022-07-06T19:02:23.236406Z",
     "iopub.status.idle": "2022-07-06T19:02:23.244101Z",
     "shell.execute_reply": "2022-07-06T19:02:23.242839Z"
    },
    "papermill": {
     "duration": 0.038825,
     "end_time": "2022-07-06T19:02:23.246574",
     "exception": false,
     "start_time": "2022-07-06T19:02:23.207749",
     "status": "completed"
    },
    "tags": []
   },
   "outputs": [
    {
     "data": {
      "text/plain": [
       "array([ 6, 10, 14])"
      ]
     },
     "execution_count": 44,
     "metadata": {},
     "output_type": "execute_result"
    }
   ],
   "source": [
    "a[[2,4,6]]"
   ]
  },
  {
   "cell_type": "code",
   "execution_count": 45,
   "id": "de026232",
   "metadata": {
    "execution": {
     "iopub.execute_input": "2022-07-06T19:02:23.302728Z",
     "iopub.status.busy": "2022-07-06T19:02:23.302258Z",
     "iopub.status.idle": "2022-07-06T19:02:23.308581Z",
     "shell.execute_reply": "2022-07-06T19:02:23.307649Z"
    },
    "papermill": {
     "duration": 0.037571,
     "end_time": "2022-07-06T19:02:23.310674",
     "exception": false,
     "start_time": "2022-07-06T19:02:23.273103",
     "status": "completed"
    },
    "tags": []
   },
   "outputs": [
    {
     "data": {
      "text/plain": [
       "array([ 6,  8, 10, 12, 14, 16])"
      ]
     },
     "execution_count": 45,
     "metadata": {},
     "output_type": "execute_result"
    }
   ],
   "source": [
    "a[2:]"
   ]
  },
  {
   "cell_type": "markdown",
   "id": "9963e427",
   "metadata": {
    "papermill": {
     "duration": 0.025448,
     "end_time": "2022-07-06T19:02:23.362306",
     "exception": false,
     "start_time": "2022-07-06T19:02:23.336858",
     "status": "completed"
    },
    "tags": []
   },
   "source": [
    "### [2:5] will include index number 2 but not the 5 so only 3rd 4th 5th element will we taken out"
   ]
  },
  {
   "cell_type": "code",
   "execution_count": 46,
   "id": "63e62c8a",
   "metadata": {
    "execution": {
     "iopub.execute_input": "2022-07-06T19:02:23.416760Z",
     "iopub.status.busy": "2022-07-06T19:02:23.415910Z",
     "iopub.status.idle": "2022-07-06T19:02:23.422758Z",
     "shell.execute_reply": "2022-07-06T19:02:23.421609Z"
    },
    "papermill": {
     "duration": 0.036984,
     "end_time": "2022-07-06T19:02:23.425331",
     "exception": false,
     "start_time": "2022-07-06T19:02:23.388347",
     "status": "completed"
    },
    "tags": []
   },
   "outputs": [
    {
     "data": {
      "text/plain": [
       "array([ 6,  8, 10])"
      ]
     },
     "execution_count": 46,
     "metadata": {},
     "output_type": "execute_result"
    }
   ],
   "source": [
    "a[2:5]"
   ]
  },
  {
   "cell_type": "markdown",
   "id": "a54dd5a5",
   "metadata": {
    "papermill": {
     "duration": 0.025719,
     "end_time": "2022-07-06T19:02:23.477453",
     "exception": false,
     "start_time": "2022-07-06T19:02:23.451734",
     "status": "completed"
    },
    "tags": []
   },
   "source": [
    "### from index 0 to n-1 all the alternate element will be taken out "
   ]
  },
  {
   "cell_type": "code",
   "execution_count": 47,
   "id": "af673f8b",
   "metadata": {
    "execution": {
     "iopub.execute_input": "2022-07-06T19:02:23.533164Z",
     "iopub.status.busy": "2022-07-06T19:02:23.532672Z",
     "iopub.status.idle": "2022-07-06T19:02:23.539855Z",
     "shell.execute_reply": "2022-07-06T19:02:23.538902Z"
    },
    "papermill": {
     "duration": 0.036946,
     "end_time": "2022-07-06T19:02:23.541978",
     "exception": false,
     "start_time": "2022-07-06T19:02:23.505032",
     "status": "completed"
    },
    "tags": []
   },
   "outputs": [
    {
     "data": {
      "text/plain": [
       "array([ 2,  6, 10, 14])"
      ]
     },
     "execution_count": 47,
     "metadata": {},
     "output_type": "execute_result"
    }
   ],
   "source": [
    "a[0::2]"
   ]
  },
  {
   "cell_type": "markdown",
   "id": "825575e3",
   "metadata": {
    "papermill": {
     "duration": 0.025932,
     "end_time": "2022-07-06T19:02:23.594235",
     "exception": false,
     "start_time": "2022-07-06T19:02:23.568303",
     "status": "completed"
    },
    "tags": []
   },
   "source": [
    "Lets check the same for 2 D array"
   ]
  },
  {
   "cell_type": "code",
   "execution_count": 48,
   "id": "13c7bcc8",
   "metadata": {
    "execution": {
     "iopub.execute_input": "2022-07-06T19:02:23.649960Z",
     "iopub.status.busy": "2022-07-06T19:02:23.649033Z",
     "iopub.status.idle": "2022-07-06T19:02:23.654460Z",
     "shell.execute_reply": "2022-07-06T19:02:23.653455Z"
    },
    "papermill": {
     "duration": 0.036317,
     "end_time": "2022-07-06T19:02:23.657075",
     "exception": false,
     "start_time": "2022-07-06T19:02:23.620758",
     "status": "completed"
    },
    "tags": []
   },
   "outputs": [],
   "source": [
    "a = np.array([[1,2,3],[4,5,6],[7,8,9]])"
   ]
  },
  {
   "cell_type": "code",
   "execution_count": 49,
   "id": "b4970f44",
   "metadata": {
    "execution": {
     "iopub.execute_input": "2022-07-06T19:02:23.712275Z",
     "iopub.status.busy": "2022-07-06T19:02:23.711122Z",
     "iopub.status.idle": "2022-07-06T19:02:23.718716Z",
     "shell.execute_reply": "2022-07-06T19:02:23.717452Z"
    },
    "papermill": {
     "duration": 0.037932,
     "end_time": "2022-07-06T19:02:23.721394",
     "exception": false,
     "start_time": "2022-07-06T19:02:23.683462",
     "status": "completed"
    },
    "tags": []
   },
   "outputs": [
    {
     "data": {
      "text/plain": [
       "array([[1, 2, 3],\n",
       "       [4, 5, 6],\n",
       "       [7, 8, 9]])"
      ]
     },
     "execution_count": 49,
     "metadata": {},
     "output_type": "execute_result"
    }
   ],
   "source": [
    "a"
   ]
  },
  {
   "cell_type": "code",
   "execution_count": 50,
   "id": "5993066e",
   "metadata": {
    "execution": {
     "iopub.execute_input": "2022-07-06T19:02:23.776674Z",
     "iopub.status.busy": "2022-07-06T19:02:23.776197Z",
     "iopub.status.idle": "2022-07-06T19:02:23.782751Z",
     "shell.execute_reply": "2022-07-06T19:02:23.781869Z"
    },
    "papermill": {
     "duration": 0.036715,
     "end_time": "2022-07-06T19:02:23.784843",
     "exception": false,
     "start_time": "2022-07-06T19:02:23.748128",
     "status": "completed"
    },
    "tags": []
   },
   "outputs": [
    {
     "data": {
      "text/plain": [
       "9"
      ]
     },
     "execution_count": 50,
     "metadata": {},
     "output_type": "execute_result"
    }
   ],
   "source": [
    "a[2,2]"
   ]
  },
  {
   "cell_type": "code",
   "execution_count": 51,
   "id": "aac60abe",
   "metadata": {
    "execution": {
     "iopub.execute_input": "2022-07-06T19:02:23.841368Z",
     "iopub.status.busy": "2022-07-06T19:02:23.840271Z",
     "iopub.status.idle": "2022-07-06T19:02:23.849351Z",
     "shell.execute_reply": "2022-07-06T19:02:23.848091Z"
    },
    "papermill": {
     "duration": 0.040266,
     "end_time": "2022-07-06T19:02:23.852149",
     "exception": false,
     "start_time": "2022-07-06T19:02:23.811883",
     "status": "completed"
    },
    "tags": []
   },
   "outputs": [
    {
     "data": {
      "text/plain": [
       "array([[False, False,  True],\n",
       "       [ True,  True,  True],\n",
       "       [ True,  True,  True]])"
      ]
     },
     "execution_count": 51,
     "metadata": {},
     "output_type": "execute_result"
    }
   ],
   "source": [
    "a > 2"
   ]
  },
  {
   "cell_type": "code",
   "execution_count": 52,
   "id": "f8934f3b",
   "metadata": {
    "execution": {
     "iopub.execute_input": "2022-07-06T19:02:23.908458Z",
     "iopub.status.busy": "2022-07-06T19:02:23.907039Z",
     "iopub.status.idle": "2022-07-06T19:02:23.915324Z",
     "shell.execute_reply": "2022-07-06T19:02:23.914297Z"
    },
    "papermill": {
     "duration": 0.038994,
     "end_time": "2022-07-06T19:02:23.917659",
     "exception": false,
     "start_time": "2022-07-06T19:02:23.878665",
     "status": "completed"
    },
    "tags": []
   },
   "outputs": [
    {
     "data": {
      "text/plain": [
       "array([3, 4, 5, 6, 7, 8, 9])"
      ]
     },
     "execution_count": 52,
     "metadata": {},
     "output_type": "execute_result"
    }
   ],
   "source": [
    "a[a > 2]"
   ]
  },
  {
   "cell_type": "code",
   "execution_count": 53,
   "id": "d2dd7316",
   "metadata": {
    "execution": {
     "iopub.execute_input": "2022-07-06T19:02:23.974842Z",
     "iopub.status.busy": "2022-07-06T19:02:23.973911Z",
     "iopub.status.idle": "2022-07-06T19:02:23.982256Z",
     "shell.execute_reply": "2022-07-06T19:02:23.981037Z"
    },
    "papermill": {
     "duration": 0.039613,
     "end_time": "2022-07-06T19:02:23.984823",
     "exception": false,
     "start_time": "2022-07-06T19:02:23.945210",
     "status": "completed"
    },
    "tags": []
   },
   "outputs": [
    {
     "data": {
      "text/plain": [
       "array([3, 4])"
      ]
     },
     "execution_count": 53,
     "metadata": {},
     "output_type": "execute_result"
    }
   ],
   "source": [
    "a[(a > 2) & (a < 5)]"
   ]
  },
  {
   "cell_type": "markdown",
   "id": "6f9fba88",
   "metadata": {
    "papermill": {
     "duration": 0.026926,
     "end_time": "2022-07-06T19:02:24.038374",
     "exception": false,
     "start_time": "2022-07-06T19:02:24.011448",
     "status": "completed"
    },
    "tags": []
   },
   "source": [
    "# **Subset of numpy array**"
   ]
  },
  {
   "cell_type": "code",
   "execution_count": 54,
   "id": "c4c911bb",
   "metadata": {
    "execution": {
     "iopub.execute_input": "2022-07-06T19:02:24.097063Z",
     "iopub.status.busy": "2022-07-06T19:02:24.096168Z",
     "iopub.status.idle": "2022-07-06T19:02:24.101758Z",
     "shell.execute_reply": "2022-07-06T19:02:24.100776Z"
    },
    "papermill": {
     "duration": 0.037597,
     "end_time": "2022-07-06T19:02:24.104170",
     "exception": false,
     "start_time": "2022-07-06T19:02:24.066573",
     "status": "completed"
    },
    "tags": []
   },
   "outputs": [],
   "source": [
    "a = np.arange(10)"
   ]
  },
  {
   "cell_type": "code",
   "execution_count": 55,
   "id": "6343780f",
   "metadata": {
    "execution": {
     "iopub.execute_input": "2022-07-06T19:02:24.161057Z",
     "iopub.status.busy": "2022-07-06T19:02:24.160153Z",
     "iopub.status.idle": "2022-07-06T19:02:24.165727Z",
     "shell.execute_reply": "2022-07-06T19:02:24.164794Z"
    },
    "papermill": {
     "duration": 0.036751,
     "end_time": "2022-07-06T19:02:24.168308",
     "exception": false,
     "start_time": "2022-07-06T19:02:24.131557",
     "status": "completed"
    },
    "tags": []
   },
   "outputs": [],
   "source": [
    "b = a"
   ]
  },
  {
   "cell_type": "code",
   "execution_count": 56,
   "id": "3bf8cc2e",
   "metadata": {
    "execution": {
     "iopub.execute_input": "2022-07-06T19:02:24.312705Z",
     "iopub.status.busy": "2022-07-06T19:02:24.311811Z",
     "iopub.status.idle": "2022-07-06T19:02:24.320056Z",
     "shell.execute_reply": "2022-07-06T19:02:24.318441Z"
    },
    "papermill": {
     "duration": 0.039562,
     "end_time": "2022-07-06T19:02:24.323022",
     "exception": false,
     "start_time": "2022-07-06T19:02:24.283460",
     "status": "completed"
    },
    "tags": []
   },
   "outputs": [
    {
     "data": {
      "text/plain": [
       "array([0, 1, 2, 3, 4, 5, 6, 7, 8, 9])"
      ]
     },
     "execution_count": 56,
     "metadata": {},
     "output_type": "execute_result"
    }
   ],
   "source": [
    "b"
   ]
  },
  {
   "cell_type": "code",
   "execution_count": 57,
   "id": "d28772b7",
   "metadata": {
    "execution": {
     "iopub.execute_input": "2022-07-06T19:02:24.379121Z",
     "iopub.status.busy": "2022-07-06T19:02:24.378619Z",
     "iopub.status.idle": "2022-07-06T19:02:24.384387Z",
     "shell.execute_reply": "2022-07-06T19:02:24.382852Z"
    },
    "papermill": {
     "duration": 0.037023,
     "end_time": "2022-07-06T19:02:24.386850",
     "exception": false,
     "start_time": "2022-07-06T19:02:24.349827",
     "status": "completed"
    },
    "tags": []
   },
   "outputs": [],
   "source": [
    "b[0] = 11"
   ]
  },
  {
   "cell_type": "code",
   "execution_count": 58,
   "id": "30af8775",
   "metadata": {
    "execution": {
     "iopub.execute_input": "2022-07-06T19:02:24.444177Z",
     "iopub.status.busy": "2022-07-06T19:02:24.443326Z",
     "iopub.status.idle": "2022-07-06T19:02:24.449946Z",
     "shell.execute_reply": "2022-07-06T19:02:24.449093Z"
    },
    "papermill": {
     "duration": 0.03723,
     "end_time": "2022-07-06T19:02:24.452176",
     "exception": false,
     "start_time": "2022-07-06T19:02:24.414946",
     "status": "completed"
    },
    "tags": []
   },
   "outputs": [
    {
     "data": {
      "text/plain": [
       "array([11,  1,  2,  3,  4,  5,  6,  7,  8,  9])"
      ]
     },
     "execution_count": 58,
     "metadata": {},
     "output_type": "execute_result"
    }
   ],
   "source": [
    "b"
   ]
  },
  {
   "cell_type": "code",
   "execution_count": 59,
   "id": "c0970345",
   "metadata": {
    "execution": {
     "iopub.execute_input": "2022-07-06T19:02:24.508578Z",
     "iopub.status.busy": "2022-07-06T19:02:24.507721Z",
     "iopub.status.idle": "2022-07-06T19:02:24.514393Z",
     "shell.execute_reply": "2022-07-06T19:02:24.513317Z"
    },
    "papermill": {
     "duration": 0.037651,
     "end_time": "2022-07-06T19:02:24.516729",
     "exception": false,
     "start_time": "2022-07-06T19:02:24.479078",
     "status": "completed"
    },
    "tags": []
   },
   "outputs": [
    {
     "data": {
      "text/plain": [
       "array([11,  1,  2,  3,  4,  5,  6,  7,  8,  9])"
      ]
     },
     "execution_count": 59,
     "metadata": {},
     "output_type": "execute_result"
    }
   ],
   "source": [
    "# Notice a is also changed\n",
    "a"
   ]
  },
  {
   "cell_type": "code",
   "execution_count": 60,
   "id": "c3bce249",
   "metadata": {
    "execution": {
     "iopub.execute_input": "2022-07-06T19:02:24.574101Z",
     "iopub.status.busy": "2022-07-06T19:02:24.572751Z",
     "iopub.status.idle": "2022-07-06T19:02:24.580406Z",
     "shell.execute_reply": "2022-07-06T19:02:24.579387Z"
    },
    "papermill": {
     "duration": 0.039137,
     "end_time": "2022-07-06T19:02:24.583135",
     "exception": false,
     "start_time": "2022-07-06T19:02:24.543998",
     "status": "completed"
    },
    "tags": []
   },
   "outputs": [
    {
     "data": {
      "text/plain": [
       "True"
      ]
     },
     "execution_count": 60,
     "metadata": {},
     "output_type": "execute_result"
    }
   ],
   "source": [
    "np.shares_memory(a,b)"
   ]
  },
  {
   "cell_type": "code",
   "execution_count": 61,
   "id": "0ecb5980",
   "metadata": {
    "execution": {
     "iopub.execute_input": "2022-07-06T19:02:24.640436Z",
     "iopub.status.busy": "2022-07-06T19:02:24.639215Z",
     "iopub.status.idle": "2022-07-06T19:02:24.644914Z",
     "shell.execute_reply": "2022-07-06T19:02:24.643915Z"
    },
    "papermill": {
     "duration": 0.036831,
     "end_time": "2022-07-06T19:02:24.647182",
     "exception": false,
     "start_time": "2022-07-06T19:02:24.610351",
     "status": "completed"
    },
    "tags": []
   },
   "outputs": [],
   "source": [
    "a = np.arange(10)"
   ]
  },
  {
   "cell_type": "code",
   "execution_count": 62,
   "id": "3ad290a3",
   "metadata": {
    "execution": {
     "iopub.execute_input": "2022-07-06T19:02:24.705288Z",
     "iopub.status.busy": "2022-07-06T19:02:24.704246Z",
     "iopub.status.idle": "2022-07-06T19:02:24.709829Z",
     "shell.execute_reply": "2022-07-06T19:02:24.708759Z"
    },
    "papermill": {
     "duration": 0.038159,
     "end_time": "2022-07-06T19:02:24.712402",
     "exception": false,
     "start_time": "2022-07-06T19:02:24.674243",
     "status": "completed"
    },
    "tags": []
   },
   "outputs": [],
   "source": [
    "b = a.copy()"
   ]
  },
  {
   "cell_type": "code",
   "execution_count": 63,
   "id": "a0af538d",
   "metadata": {
    "execution": {
     "iopub.execute_input": "2022-07-06T19:02:24.771876Z",
     "iopub.status.busy": "2022-07-06T19:02:24.770938Z",
     "iopub.status.idle": "2022-07-06T19:02:24.776061Z",
     "shell.execute_reply": "2022-07-06T19:02:24.775113Z"
    },
    "papermill": {
     "duration": 0.037958,
     "end_time": "2022-07-06T19:02:24.778119",
     "exception": false,
     "start_time": "2022-07-06T19:02:24.740161",
     "status": "completed"
    },
    "tags": []
   },
   "outputs": [],
   "source": [
    "b[0] = 11"
   ]
  },
  {
   "cell_type": "code",
   "execution_count": 64,
   "id": "f5374012",
   "metadata": {
    "execution": {
     "iopub.execute_input": "2022-07-06T19:02:24.835655Z",
     "iopub.status.busy": "2022-07-06T19:02:24.834945Z",
     "iopub.status.idle": "2022-07-06T19:02:24.840947Z",
     "shell.execute_reply": "2022-07-06T19:02:24.839956Z"
    },
    "papermill": {
     "duration": 0.038442,
     "end_time": "2022-07-06T19:02:24.843535",
     "exception": false,
     "start_time": "2022-07-06T19:02:24.805093",
     "status": "completed"
    },
    "tags": []
   },
   "outputs": [
    {
     "data": {
      "text/plain": [
       "array([11,  1,  2,  3,  4,  5,  6,  7,  8,  9])"
      ]
     },
     "execution_count": 64,
     "metadata": {},
     "output_type": "execute_result"
    }
   ],
   "source": [
    "b\n",
    "\n"
   ]
  },
  {
   "cell_type": "code",
   "execution_count": 65,
   "id": "d07f211e",
   "metadata": {
    "execution": {
     "iopub.execute_input": "2022-07-06T19:02:24.900713Z",
     "iopub.status.busy": "2022-07-06T19:02:24.899998Z",
     "iopub.status.idle": "2022-07-06T19:02:24.906587Z",
     "shell.execute_reply": "2022-07-06T19:02:24.905593Z"
    },
    "papermill": {
     "duration": 0.038273,
     "end_time": "2022-07-06T19:02:24.909214",
     "exception": false,
     "start_time": "2022-07-06T19:02:24.870941",
     "status": "completed"
    },
    "tags": []
   },
   "outputs": [
    {
     "data": {
      "text/plain": [
       "False"
      ]
     },
     "execution_count": 65,
     "metadata": {},
     "output_type": "execute_result"
    }
   ],
   "source": [
    "np.shares_memory(a,b)"
   ]
  },
  {
   "cell_type": "code",
   "execution_count": 66,
   "id": "b4db8761",
   "metadata": {
    "execution": {
     "iopub.execute_input": "2022-07-06T19:02:24.968910Z",
     "iopub.status.busy": "2022-07-06T19:02:24.968154Z",
     "iopub.status.idle": "2022-07-06T19:02:24.975289Z",
     "shell.execute_reply": "2022-07-06T19:02:24.973892Z"
    },
    "papermill": {
     "duration": 0.039531,
     "end_time": "2022-07-06T19:02:24.977674",
     "exception": false,
     "start_time": "2022-07-06T19:02:24.938143",
     "status": "completed"
    },
    "tags": []
   },
   "outputs": [
    {
     "data": {
      "text/plain": [
       "array([0, 1, 2, 3, 4, 5, 6, 7, 8, 9])"
      ]
     },
     "execution_count": 66,
     "metadata": {},
     "output_type": "execute_result"
    }
   ],
   "source": [
    "a"
   ]
  },
  {
   "cell_type": "markdown",
   "id": "cfe4b72d",
   "metadata": {
    "papermill": {
     "duration": 0.027768,
     "end_time": "2022-07-06T19:02:25.033030",
     "exception": false,
     "start_time": "2022-07-06T19:02:25.005262",
     "status": "completed"
    },
    "tags": []
   },
   "source": [
    "# **More operations**"
   ]
  },
  {
   "cell_type": "code",
   "execution_count": 67,
   "id": "8716ec61",
   "metadata": {
    "execution": {
     "iopub.execute_input": "2022-07-06T19:02:25.091175Z",
     "iopub.status.busy": "2022-07-06T19:02:25.090704Z",
     "iopub.status.idle": "2022-07-06T19:02:25.097582Z",
     "shell.execute_reply": "2022-07-06T19:02:25.096222Z"
    },
    "papermill": {
     "duration": 0.038576,
     "end_time": "2022-07-06T19:02:25.100197",
     "exception": false,
     "start_time": "2022-07-06T19:02:25.061621",
     "status": "completed"
    },
    "tags": []
   },
   "outputs": [],
   "source": [
    "a = np.array([[1,2,3],[4,5,6]])"
   ]
  },
  {
   "cell_type": "code",
   "execution_count": 68,
   "id": "8cb2d080",
   "metadata": {
    "execution": {
     "iopub.execute_input": "2022-07-06T19:02:25.159872Z",
     "iopub.status.busy": "2022-07-06T19:02:25.159386Z",
     "iopub.status.idle": "2022-07-06T19:02:25.165762Z",
     "shell.execute_reply": "2022-07-06T19:02:25.164869Z"
    },
    "papermill": {
     "duration": 0.038592,
     "end_time": "2022-07-06T19:02:25.168034",
     "exception": false,
     "start_time": "2022-07-06T19:02:25.129442",
     "status": "completed"
    },
    "tags": []
   },
   "outputs": [
    {
     "data": {
      "text/plain": [
       "array([[1, 2, 3],\n",
       "       [4, 5, 6]])"
      ]
     },
     "execution_count": 68,
     "metadata": {},
     "output_type": "execute_result"
    }
   ],
   "source": [
    "a\n"
   ]
  },
  {
   "cell_type": "code",
   "execution_count": 69,
   "id": "d72b2022",
   "metadata": {
    "execution": {
     "iopub.execute_input": "2022-07-06T19:02:25.226683Z",
     "iopub.status.busy": "2022-07-06T19:02:25.225890Z",
     "iopub.status.idle": "2022-07-06T19:02:25.235344Z",
     "shell.execute_reply": "2022-07-06T19:02:25.234067Z"
    },
    "papermill": {
     "duration": 0.042144,
     "end_time": "2022-07-06T19:02:25.238031",
     "exception": false,
     "start_time": "2022-07-06T19:02:25.195887",
     "status": "completed"
    },
    "tags": []
   },
   "outputs": [
    {
     "data": {
      "text/plain": [
       "array([[1, 4],\n",
       "       [2, 5],\n",
       "       [3, 6]])"
      ]
     },
     "execution_count": 69,
     "metadata": {},
     "output_type": "execute_result"
    }
   ],
   "source": [
    "a.T"
   ]
  },
  {
   "cell_type": "code",
   "execution_count": 70,
   "id": "967391a6",
   "metadata": {
    "execution": {
     "iopub.execute_input": "2022-07-06T19:02:25.300655Z",
     "iopub.status.busy": "2022-07-06T19:02:25.300186Z",
     "iopub.status.idle": "2022-07-06T19:02:25.306258Z",
     "shell.execute_reply": "2022-07-06T19:02:25.304791Z"
    },
    "papermill": {
     "duration": 0.040452,
     "end_time": "2022-07-06T19:02:25.308678",
     "exception": false,
     "start_time": "2022-07-06T19:02:25.268226",
     "status": "completed"
    },
    "tags": []
   },
   "outputs": [],
   "source": [
    "b = np.array([[7,8,9],[10,11,12]])"
   ]
  },
  {
   "cell_type": "code",
   "execution_count": 71,
   "id": "72ffec83",
   "metadata": {
    "execution": {
     "iopub.execute_input": "2022-07-06T19:02:25.366670Z",
     "iopub.status.busy": "2022-07-06T19:02:25.366180Z",
     "iopub.status.idle": "2022-07-06T19:02:25.373895Z",
     "shell.execute_reply": "2022-07-06T19:02:25.372490Z"
    },
    "papermill": {
     "duration": 0.039506,
     "end_time": "2022-07-06T19:02:25.376467",
     "exception": false,
     "start_time": "2022-07-06T19:02:25.336961",
     "status": "completed"
    },
    "tags": []
   },
   "outputs": [
    {
     "data": {
      "text/plain": [
       "array([[1, 2, 3],\n",
       "       [4, 5, 6]])"
      ]
     },
     "execution_count": 71,
     "metadata": {},
     "output_type": "execute_result"
    }
   ],
   "source": [
    "a"
   ]
  },
  {
   "cell_type": "code",
   "execution_count": 72,
   "id": "5e5f7041",
   "metadata": {
    "execution": {
     "iopub.execute_input": "2022-07-06T19:02:25.435266Z",
     "iopub.status.busy": "2022-07-06T19:02:25.434508Z",
     "iopub.status.idle": "2022-07-06T19:02:25.442662Z",
     "shell.execute_reply": "2022-07-06T19:02:25.441101Z"
    },
    "papermill": {
     "duration": 0.041068,
     "end_time": "2022-07-06T19:02:25.445525",
     "exception": false,
     "start_time": "2022-07-06T19:02:25.404457",
     "status": "completed"
    },
    "tags": []
   },
   "outputs": [
    {
     "data": {
      "text/plain": [
       "array([[ 7,  8,  9],\n",
       "       [10, 11, 12]])"
      ]
     },
     "execution_count": 72,
     "metadata": {},
     "output_type": "execute_result"
    }
   ],
   "source": [
    "b"
   ]
  },
  {
   "cell_type": "code",
   "execution_count": 73,
   "id": "57d52e72",
   "metadata": {
    "execution": {
     "iopub.execute_input": "2022-07-06T19:02:25.503116Z",
     "iopub.status.busy": "2022-07-06T19:02:25.502675Z",
     "iopub.status.idle": "2022-07-06T19:02:25.509741Z",
     "shell.execute_reply": "2022-07-06T19:02:25.508549Z"
    },
    "papermill": {
     "duration": 0.03902,
     "end_time": "2022-07-06T19:02:25.512378",
     "exception": false,
     "start_time": "2022-07-06T19:02:25.473358",
     "status": "completed"
    },
    "tags": []
   },
   "outputs": [
    {
     "data": {
      "text/plain": [
       "array([[False, False, False],\n",
       "       [False, False, False]])"
      ]
     },
     "execution_count": 73,
     "metadata": {},
     "output_type": "execute_result"
    }
   ],
   "source": [
    "a == b"
   ]
  },
  {
   "cell_type": "code",
   "execution_count": 74,
   "id": "b8f60cf8",
   "metadata": {
    "execution": {
     "iopub.execute_input": "2022-07-06T19:02:25.571909Z",
     "iopub.status.busy": "2022-07-06T19:02:25.570786Z",
     "iopub.status.idle": "2022-07-06T19:02:25.579943Z",
     "shell.execute_reply": "2022-07-06T19:02:25.578738Z"
    },
    "papermill": {
     "duration": 0.041694,
     "end_time": "2022-07-06T19:02:25.582631",
     "exception": false,
     "start_time": "2022-07-06T19:02:25.540937",
     "status": "completed"
    },
    "tags": []
   },
   "outputs": [
    {
     "data": {
      "text/plain": [
       "array([[ 1,  2,  3],\n",
       "       [ 4,  5,  6],\n",
       "       [ 7,  8,  9],\n",
       "       [10, 11, 12]])"
      ]
     },
     "execution_count": 74,
     "metadata": {},
     "output_type": "execute_result"
    }
   ],
   "source": [
    "np.vstack((a,b))"
   ]
  },
  {
   "cell_type": "code",
   "execution_count": 75,
   "id": "93519d40",
   "metadata": {
    "execution": {
     "iopub.execute_input": "2022-07-06T19:02:25.642984Z",
     "iopub.status.busy": "2022-07-06T19:02:25.642087Z",
     "iopub.status.idle": "2022-07-06T19:02:25.650300Z",
     "shell.execute_reply": "2022-07-06T19:02:25.649106Z"
    },
    "papermill": {
     "duration": 0.0413,
     "end_time": "2022-07-06T19:02:25.652710",
     "exception": false,
     "start_time": "2022-07-06T19:02:25.611410",
     "status": "completed"
    },
    "tags": []
   },
   "outputs": [
    {
     "data": {
      "text/plain": [
       "array([[ 1,  2,  3,  7,  8,  9],\n",
       "       [ 4,  5,  6, 10, 11, 12]])"
      ]
     },
     "execution_count": 75,
     "metadata": {},
     "output_type": "execute_result"
    }
   ],
   "source": [
    "np.hstack((a,b))"
   ]
  },
  {
   "cell_type": "markdown",
   "id": "c4d592d3",
   "metadata": {
    "papermill": {
     "duration": 0.029372,
     "end_time": "2022-07-06T19:02:25.710308",
     "exception": false,
     "start_time": "2022-07-06T19:02:25.680936",
     "status": "completed"
    },
    "tags": []
   },
   "source": [
    "# **Mathmatical operation on numpy array**"
   ]
  },
  {
   "cell_type": "code",
   "execution_count": 76,
   "id": "73a47742",
   "metadata": {
    "execution": {
     "iopub.execute_input": "2022-07-06T19:02:25.770612Z",
     "iopub.status.busy": "2022-07-06T19:02:25.769694Z",
     "iopub.status.idle": "2022-07-06T19:02:25.774958Z",
     "shell.execute_reply": "2022-07-06T19:02:25.773895Z"
    },
    "papermill": {
     "duration": 0.038126,
     "end_time": "2022-07-06T19:02:25.777505",
     "exception": false,
     "start_time": "2022-07-06T19:02:25.739379",
     "status": "completed"
    },
    "tags": []
   },
   "outputs": [],
   "source": [
    "a = np.arange(1,10)"
   ]
  },
  {
   "cell_type": "code",
   "execution_count": 77,
   "id": "1ca47197",
   "metadata": {
    "execution": {
     "iopub.execute_input": "2022-07-06T19:02:25.840046Z",
     "iopub.status.busy": "2022-07-06T19:02:25.839197Z",
     "iopub.status.idle": "2022-07-06T19:02:25.848749Z",
     "shell.execute_reply": "2022-07-06T19:02:25.847403Z"
    },
    "papermill": {
     "duration": 0.043209,
     "end_time": "2022-07-06T19:02:25.851680",
     "exception": false,
     "start_time": "2022-07-06T19:02:25.808471",
     "status": "completed"
    },
    "tags": []
   },
   "outputs": [
    {
     "data": {
      "text/plain": [
       "array([ 0.84147098,  0.90929743,  0.14112001, -0.7568025 , -0.95892427,\n",
       "       -0.2794155 ,  0.6569866 ,  0.98935825,  0.41211849])"
      ]
     },
     "execution_count": 77,
     "metadata": {},
     "output_type": "execute_result"
    }
   ],
   "source": [
    "np.sin(a)"
   ]
  },
  {
   "cell_type": "code",
   "execution_count": 78,
   "id": "2bedb49e",
   "metadata": {
    "execution": {
     "iopub.execute_input": "2022-07-06T19:02:25.913079Z",
     "iopub.status.busy": "2022-07-06T19:02:25.912438Z",
     "iopub.status.idle": "2022-07-06T19:02:25.920887Z",
     "shell.execute_reply": "2022-07-06T19:02:25.919525Z"
    },
    "papermill": {
     "duration": 0.042633,
     "end_time": "2022-07-06T19:02:25.923561",
     "exception": false,
     "start_time": "2022-07-06T19:02:25.880928",
     "status": "completed"
    },
    "tags": []
   },
   "outputs": [
    {
     "data": {
      "text/plain": [
       "array([ 0.54030231, -0.41614684, -0.9899925 , -0.65364362,  0.28366219,\n",
       "        0.96017029,  0.75390225, -0.14550003, -0.91113026])"
      ]
     },
     "execution_count": 78,
     "metadata": {},
     "output_type": "execute_result"
    }
   ],
   "source": [
    "np.cos(a)"
   ]
  },
  {
   "cell_type": "code",
   "execution_count": 79,
   "id": "6d7364df",
   "metadata": {
    "execution": {
     "iopub.execute_input": "2022-07-06T19:02:25.987865Z",
     "iopub.status.busy": "2022-07-06T19:02:25.987086Z",
     "iopub.status.idle": "2022-07-06T19:02:25.994360Z",
     "shell.execute_reply": "2022-07-06T19:02:25.993436Z"
    },
    "papermill": {
     "duration": 0.042024,
     "end_time": "2022-07-06T19:02:25.996758",
     "exception": false,
     "start_time": "2022-07-06T19:02:25.954734",
     "status": "completed"
    },
    "tags": []
   },
   "outputs": [
    {
     "data": {
      "text/plain": [
       "array([2.71828183e+00, 7.38905610e+00, 2.00855369e+01, 5.45981500e+01,\n",
       "       1.48413159e+02, 4.03428793e+02, 1.09663316e+03, 2.98095799e+03,\n",
       "       8.10308393e+03])"
      ]
     },
     "execution_count": 79,
     "metadata": {},
     "output_type": "execute_result"
    }
   ],
   "source": [
    "np.exp(a)"
   ]
  },
  {
   "cell_type": "code",
   "execution_count": 80,
   "id": "50ad5f2e",
   "metadata": {
    "execution": {
     "iopub.execute_input": "2022-07-06T19:02:26.059957Z",
     "iopub.status.busy": "2022-07-06T19:02:26.059206Z",
     "iopub.status.idle": "2022-07-06T19:02:26.065480Z",
     "shell.execute_reply": "2022-07-06T19:02:26.064494Z"
    },
    "papermill": {
     "duration": 0.04025,
     "end_time": "2022-07-06T19:02:26.067752",
     "exception": false,
     "start_time": "2022-07-06T19:02:26.027502",
     "status": "completed"
    },
    "tags": []
   },
   "outputs": [
    {
     "data": {
      "text/plain": [
       "45"
      ]
     },
     "execution_count": 80,
     "metadata": {},
     "output_type": "execute_result"
    }
   ],
   "source": [
    "np.sum(a)"
   ]
  },
  {
   "cell_type": "code",
   "execution_count": 81,
   "id": "b220a71e",
   "metadata": {
    "execution": {
     "iopub.execute_input": "2022-07-06T19:02:26.157666Z",
     "iopub.status.busy": "2022-07-06T19:02:26.156835Z",
     "iopub.status.idle": "2022-07-06T19:02:26.166727Z",
     "shell.execute_reply": "2022-07-06T19:02:26.165607Z"
    },
    "papermill": {
     "duration": 0.071873,
     "end_time": "2022-07-06T19:02:26.169917",
     "exception": false,
     "start_time": "2022-07-06T19:02:26.098044",
     "status": "completed"
    },
    "tags": []
   },
   "outputs": [
    {
     "data": {
      "text/plain": [
       "5.0"
      ]
     },
     "execution_count": 81,
     "metadata": {},
     "output_type": "execute_result"
    }
   ],
   "source": [
    "np.median(a)"
   ]
  },
  {
   "cell_type": "code",
   "execution_count": 82,
   "id": "62ce9ec9",
   "metadata": {
    "execution": {
     "iopub.execute_input": "2022-07-06T19:02:26.233473Z",
     "iopub.status.busy": "2022-07-06T19:02:26.232614Z",
     "iopub.status.idle": "2022-07-06T19:02:26.239254Z",
     "shell.execute_reply": "2022-07-06T19:02:26.238294Z"
    },
    "papermill": {
     "duration": 0.040818,
     "end_time": "2022-07-06T19:02:26.241664",
     "exception": false,
     "start_time": "2022-07-06T19:02:26.200846",
     "status": "completed"
    },
    "tags": []
   },
   "outputs": [
    {
     "data": {
      "text/plain": [
       "2.581988897471611"
      ]
     },
     "execution_count": 82,
     "metadata": {},
     "output_type": "execute_result"
    }
   ],
   "source": [
    "a.std()"
   ]
  },
  {
   "cell_type": "code",
   "execution_count": 83,
   "id": "53eed2c3",
   "metadata": {
    "execution": {
     "iopub.execute_input": "2022-07-06T19:02:26.305426Z",
     "iopub.status.busy": "2022-07-06T19:02:26.304630Z",
     "iopub.status.idle": "2022-07-06T19:02:26.310029Z",
     "shell.execute_reply": "2022-07-06T19:02:26.308911Z"
    },
    "papermill": {
     "duration": 0.04098,
     "end_time": "2022-07-06T19:02:26.312879",
     "exception": false,
     "start_time": "2022-07-06T19:02:26.271899",
     "status": "completed"
    },
    "tags": []
   },
   "outputs": [],
   "source": [
    "a = np.arange(1,10).reshape(3,3)"
   ]
  },
  {
   "cell_type": "code",
   "execution_count": 84,
   "id": "0a15893f",
   "metadata": {
    "execution": {
     "iopub.execute_input": "2022-07-06T19:02:26.375858Z",
     "iopub.status.busy": "2022-07-06T19:02:26.375056Z",
     "iopub.status.idle": "2022-07-06T19:02:26.381885Z",
     "shell.execute_reply": "2022-07-06T19:02:26.380944Z"
    },
    "papermill": {
     "duration": 0.040083,
     "end_time": "2022-07-06T19:02:26.384231",
     "exception": false,
     "start_time": "2022-07-06T19:02:26.344148",
     "status": "completed"
    },
    "tags": []
   },
   "outputs": [
    {
     "data": {
      "text/plain": [
       "0.0"
      ]
     },
     "execution_count": 84,
     "metadata": {},
     "output_type": "execute_result"
    }
   ],
   "source": [
    "np.linalg.det(a)"
   ]
  },
  {
   "cell_type": "code",
   "execution_count": 85,
   "id": "11398903",
   "metadata": {
    "execution": {
     "iopub.execute_input": "2022-07-06T19:02:26.448144Z",
     "iopub.status.busy": "2022-07-06T19:02:26.447279Z",
     "iopub.status.idle": "2022-07-06T19:02:26.470317Z",
     "shell.execute_reply": "2022-07-06T19:02:26.468832Z"
    },
    "papermill": {
     "duration": 0.058648,
     "end_time": "2022-07-06T19:02:26.474123",
     "exception": false,
     "start_time": "2022-07-06T19:02:26.415475",
     "status": "completed"
    },
    "tags": []
   },
   "outputs": [
    {
     "data": {
      "text/plain": [
       "(array([ 1.61168440e+01, -1.11684397e+00, -1.30367773e-15]),\n",
       " array([[-0.23197069, -0.78583024,  0.40824829],\n",
       "        [-0.52532209, -0.08675134, -0.81649658],\n",
       "        [-0.8186735 ,  0.61232756,  0.40824829]]))"
      ]
     },
     "execution_count": 85,
     "metadata": {},
     "output_type": "execute_result"
    }
   ],
   "source": [
    "np.linalg.eig(a)"
   ]
  },
  {
   "cell_type": "code",
   "execution_count": 86,
   "id": "de37a209",
   "metadata": {
    "execution": {
     "iopub.execute_input": "2022-07-06T19:02:26.537336Z",
     "iopub.status.busy": "2022-07-06T19:02:26.536478Z",
     "iopub.status.idle": "2022-07-06T19:02:26.543141Z",
     "shell.execute_reply": "2022-07-06T19:02:26.542228Z"
    },
    "papermill": {
     "duration": 0.04224,
     "end_time": "2022-07-06T19:02:26.545454",
     "exception": false,
     "start_time": "2022-07-06T19:02:26.503214",
     "status": "completed"
    },
    "tags": []
   },
   "outputs": [
    {
     "data": {
      "text/plain": [
       "array([[1, 2, 3],\n",
       "       [4, 5, 6],\n",
       "       [7, 8, 9]])"
      ]
     },
     "execution_count": 86,
     "metadata": {},
     "output_type": "execute_result"
    }
   ],
   "source": [
    "a"
   ]
  },
  {
   "cell_type": "code",
   "execution_count": 87,
   "id": "929bc169",
   "metadata": {
    "execution": {
     "iopub.execute_input": "2022-07-06T19:02:26.611399Z",
     "iopub.status.busy": "2022-07-06T19:02:26.610523Z",
     "iopub.status.idle": "2022-07-06T19:02:26.615307Z",
     "shell.execute_reply": "2022-07-06T19:02:26.614378Z"
    },
    "papermill": {
     "duration": 0.041465,
     "end_time": "2022-07-06T19:02:26.617884",
     "exception": false,
     "start_time": "2022-07-06T19:02:26.576419",
     "status": "completed"
    },
    "tags": []
   },
   "outputs": [],
   "source": [
    "b = a.T"
   ]
  },
  {
   "cell_type": "code",
   "execution_count": 88,
   "id": "8a4a5c9d",
   "metadata": {
    "execution": {
     "iopub.execute_input": "2022-07-06T19:02:26.681175Z",
     "iopub.status.busy": "2022-07-06T19:02:26.680258Z",
     "iopub.status.idle": "2022-07-06T19:02:26.687016Z",
     "shell.execute_reply": "2022-07-06T19:02:26.686035Z"
    },
    "papermill": {
     "duration": 0.041921,
     "end_time": "2022-07-06T19:02:26.689310",
     "exception": false,
     "start_time": "2022-07-06T19:02:26.647389",
     "status": "completed"
    },
    "tags": []
   },
   "outputs": [
    {
     "data": {
      "text/plain": [
       "array([[1, 4, 7],\n",
       "       [2, 5, 8],\n",
       "       [3, 6, 9]])"
      ]
     },
     "execution_count": 88,
     "metadata": {},
     "output_type": "execute_result"
    }
   ],
   "source": [
    "b"
   ]
  },
  {
   "cell_type": "code",
   "execution_count": 89,
   "id": "70d9e8ae",
   "metadata": {
    "execution": {
     "iopub.execute_input": "2022-07-06T19:02:26.753384Z",
     "iopub.status.busy": "2022-07-06T19:02:26.752615Z",
     "iopub.status.idle": "2022-07-06T19:02:26.759689Z",
     "shell.execute_reply": "2022-07-06T19:02:26.758664Z"
    },
    "papermill": {
     "duration": 0.042822,
     "end_time": "2022-07-06T19:02:26.762139",
     "exception": false,
     "start_time": "2022-07-06T19:02:26.719317",
     "status": "completed"
    },
    "tags": []
   },
   "outputs": [
    {
     "data": {
      "text/plain": [
       "array([[ 14,  32,  50],\n",
       "       [ 32,  77, 122],\n",
       "       [ 50, 122, 194]])"
      ]
     },
     "execution_count": 89,
     "metadata": {},
     "output_type": "execute_result"
    }
   ],
   "source": [
    "np.dot(a,b)\n"
   ]
  },
  {
   "cell_type": "code",
   "execution_count": 90,
   "id": "5b858f3e",
   "metadata": {
    "execution": {
     "iopub.execute_input": "2022-07-06T19:02:26.833522Z",
     "iopub.status.busy": "2022-07-06T19:02:26.832078Z",
     "iopub.status.idle": "2022-07-06T19:02:26.840849Z",
     "shell.execute_reply": "2022-07-06T19:02:26.839079Z"
    },
    "papermill": {
     "duration": 0.050685,
     "end_time": "2022-07-06T19:02:26.844238",
     "exception": false,
     "start_time": "2022-07-06T19:02:26.793553",
     "status": "completed"
    },
    "tags": []
   },
   "outputs": [],
   "source": [
    "a = np.array([1,1,0], dtype = bool)\n",
    "b = np.array([1,0,1], dtype = bool)\n"
   ]
  },
  {
   "cell_type": "code",
   "execution_count": 91,
   "id": "bed8be0a",
   "metadata": {
    "execution": {
     "iopub.execute_input": "2022-07-06T19:02:26.909499Z",
     "iopub.status.busy": "2022-07-06T19:02:26.908981Z",
     "iopub.status.idle": "2022-07-06T19:02:26.916319Z",
     "shell.execute_reply": "2022-07-06T19:02:26.915318Z"
    },
    "papermill": {
     "duration": 0.042837,
     "end_time": "2022-07-06T19:02:26.918818",
     "exception": false,
     "start_time": "2022-07-06T19:02:26.875981",
     "status": "completed"
    },
    "tags": []
   },
   "outputs": [
    {
     "data": {
      "text/plain": [
       "array([ True,  True,  True])"
      ]
     },
     "execution_count": 91,
     "metadata": {},
     "output_type": "execute_result"
    }
   ],
   "source": [
    "np.logical_or(a,b)"
   ]
  },
  {
   "cell_type": "code",
   "execution_count": 92,
   "id": "3c0f7ea6",
   "metadata": {
    "execution": {
     "iopub.execute_input": "2022-07-06T19:02:26.980895Z",
     "iopub.status.busy": "2022-07-06T19:02:26.979778Z",
     "iopub.status.idle": "2022-07-06T19:02:26.986486Z",
     "shell.execute_reply": "2022-07-06T19:02:26.985616Z"
    },
    "papermill": {
     "duration": 0.040474,
     "end_time": "2022-07-06T19:02:26.988823",
     "exception": false,
     "start_time": "2022-07-06T19:02:26.948349",
     "status": "completed"
    },
    "tags": []
   },
   "outputs": [
    {
     "data": {
      "text/plain": [
       "array([ True, False, False])"
      ]
     },
     "execution_count": 92,
     "metadata": {},
     "output_type": "execute_result"
    }
   ],
   "source": [
    "np.logical_and(a,b)"
   ]
  },
  {
   "cell_type": "code",
   "execution_count": 93,
   "id": "84c6eb13",
   "metadata": {
    "execution": {
     "iopub.execute_input": "2022-07-06T19:02:27.053329Z",
     "iopub.status.busy": "2022-07-06T19:02:27.052454Z",
     "iopub.status.idle": "2022-07-06T19:02:27.059786Z",
     "shell.execute_reply": "2022-07-06T19:02:27.058373Z"
    },
    "papermill": {
     "duration": 0.043386,
     "end_time": "2022-07-06T19:02:27.062666",
     "exception": false,
     "start_time": "2022-07-06T19:02:27.019280",
     "status": "completed"
    },
    "tags": []
   },
   "outputs": [
    {
     "data": {
      "text/plain": [
       "True"
      ]
     },
     "execution_count": 93,
     "metadata": {},
     "output_type": "execute_result"
    }
   ],
   "source": [
    "np.all(a == a)"
   ]
  },
  {
   "cell_type": "code",
   "execution_count": 94,
   "id": "04c03335",
   "metadata": {
    "execution": {
     "iopub.execute_input": "2022-07-06T19:02:27.125881Z",
     "iopub.status.busy": "2022-07-06T19:02:27.124424Z",
     "iopub.status.idle": "2022-07-06T19:02:27.130778Z",
     "shell.execute_reply": "2022-07-06T19:02:27.129827Z"
    },
    "papermill": {
     "duration": 0.040211,
     "end_time": "2022-07-06T19:02:27.133511",
     "exception": false,
     "start_time": "2022-07-06T19:02:27.093300",
     "status": "completed"
    },
    "tags": []
   },
   "outputs": [],
   "source": [
    "a = np.array([[1,2],[3,4]])"
   ]
  },
  {
   "cell_type": "code",
   "execution_count": 95,
   "id": "560f6d80",
   "metadata": {
    "execution": {
     "iopub.execute_input": "2022-07-06T19:02:27.196530Z",
     "iopub.status.busy": "2022-07-06T19:02:27.195777Z",
     "iopub.status.idle": "2022-07-06T19:02:27.203759Z",
     "shell.execute_reply": "2022-07-06T19:02:27.202683Z"
    },
    "papermill": {
     "duration": 0.04246,
     "end_time": "2022-07-06T19:02:27.206169",
     "exception": false,
     "start_time": "2022-07-06T19:02:27.163709",
     "status": "completed"
    },
    "tags": []
   },
   "outputs": [
    {
     "data": {
      "text/plain": [
       "array([[1, 2],\n",
       "       [3, 4]])"
      ]
     },
     "execution_count": 95,
     "metadata": {},
     "output_type": "execute_result"
    }
   ],
   "source": [
    "a\n"
   ]
  },
  {
   "cell_type": "code",
   "execution_count": 96,
   "id": "70c3d164",
   "metadata": {
    "execution": {
     "iopub.execute_input": "2022-07-06T19:02:27.270718Z",
     "iopub.status.busy": "2022-07-06T19:02:27.269909Z",
     "iopub.status.idle": "2022-07-06T19:02:27.277362Z",
     "shell.execute_reply": "2022-07-06T19:02:27.276197Z"
    },
    "papermill": {
     "duration": 0.04274,
     "end_time": "2022-07-06T19:02:27.279902",
     "exception": false,
     "start_time": "2022-07-06T19:02:27.237162",
     "status": "completed"
    },
    "tags": []
   },
   "outputs": [
    {
     "data": {
      "text/plain": [
       "10"
      ]
     },
     "execution_count": 96,
     "metadata": {},
     "output_type": "execute_result"
    }
   ],
   "source": [
    "a.sum()"
   ]
  },
  {
   "cell_type": "code",
   "execution_count": 97,
   "id": "53368e25",
   "metadata": {
    "execution": {
     "iopub.execute_input": "2022-07-06T19:02:27.347093Z",
     "iopub.status.busy": "2022-07-06T19:02:27.346038Z",
     "iopub.status.idle": "2022-07-06T19:02:27.355319Z",
     "shell.execute_reply": "2022-07-06T19:02:27.353804Z"
    },
    "papermill": {
     "duration": 0.045555,
     "end_time": "2022-07-06T19:02:27.358339",
     "exception": false,
     "start_time": "2022-07-06T19:02:27.312784",
     "status": "completed"
    },
    "tags": []
   },
   "outputs": [
    {
     "data": {
      "text/plain": [
       "array([4, 6])"
      ]
     },
     "execution_count": 97,
     "metadata": {},
     "output_type": "execute_result"
    }
   ],
   "source": [
    "a.sum(axis=0)"
   ]
  },
  {
   "cell_type": "code",
   "execution_count": 98,
   "id": "bff53e3b",
   "metadata": {
    "execution": {
     "iopub.execute_input": "2022-07-06T19:02:27.423174Z",
     "iopub.status.busy": "2022-07-06T19:02:27.421888Z",
     "iopub.status.idle": "2022-07-06T19:02:27.429399Z",
     "shell.execute_reply": "2022-07-06T19:02:27.428247Z"
    },
    "papermill": {
     "duration": 0.042648,
     "end_time": "2022-07-06T19:02:27.432071",
     "exception": false,
     "start_time": "2022-07-06T19:02:27.389423",
     "status": "completed"
    },
    "tags": []
   },
   "outputs": [
    {
     "data": {
      "text/plain": [
       "array([3, 7])"
      ]
     },
     "execution_count": 98,
     "metadata": {},
     "output_type": "execute_result"
    }
   ],
   "source": [
    "a.sum(axis=1)"
   ]
  },
  {
   "cell_type": "code",
   "execution_count": 99,
   "id": "68205294",
   "metadata": {
    "execution": {
     "iopub.execute_input": "2022-07-06T19:02:27.497997Z",
     "iopub.status.busy": "2022-07-06T19:02:27.497465Z",
     "iopub.status.idle": "2022-07-06T19:02:27.505259Z",
     "shell.execute_reply": "2022-07-06T19:02:27.504230Z"
    },
    "papermill": {
     "duration": 0.044526,
     "end_time": "2022-07-06T19:02:27.507648",
     "exception": false,
     "start_time": "2022-07-06T19:02:27.463122",
     "status": "completed"
    },
    "tags": []
   },
   "outputs": [
    {
     "data": {
      "text/plain": [
       "4"
      ]
     },
     "execution_count": 99,
     "metadata": {},
     "output_type": "execute_result"
    }
   ],
   "source": [
    "a.max()"
   ]
  },
  {
   "cell_type": "code",
   "execution_count": 100,
   "id": "ff99bf96",
   "metadata": {
    "execution": {
     "iopub.execute_input": "2022-07-06T19:02:27.570566Z",
     "iopub.status.busy": "2022-07-06T19:02:27.569505Z",
     "iopub.status.idle": "2022-07-06T19:02:27.577587Z",
     "shell.execute_reply": "2022-07-06T19:02:27.576583Z"
    },
    "papermill": {
     "duration": 0.042125,
     "end_time": "2022-07-06T19:02:27.580213",
     "exception": false,
     "start_time": "2022-07-06T19:02:27.538088",
     "status": "completed"
    },
    "tags": []
   },
   "outputs": [
    {
     "data": {
      "text/plain": [
       "3"
      ]
     },
     "execution_count": 100,
     "metadata": {},
     "output_type": "execute_result"
    }
   ],
   "source": [
    "a.argmax()"
   ]
  },
  {
   "cell_type": "code",
   "execution_count": 101,
   "id": "981612ae",
   "metadata": {
    "execution": {
     "iopub.execute_input": "2022-07-06T19:02:27.649853Z",
     "iopub.status.busy": "2022-07-06T19:02:27.648557Z",
     "iopub.status.idle": "2022-07-06T19:02:27.656388Z",
     "shell.execute_reply": "2022-07-06T19:02:27.655233Z"
    },
    "papermill": {
     "duration": 0.045985,
     "end_time": "2022-07-06T19:02:27.659164",
     "exception": false,
     "start_time": "2022-07-06T19:02:27.613179",
     "status": "completed"
    },
    "tags": []
   },
   "outputs": [
    {
     "data": {
      "text/plain": [
       "array([[1, 2],\n",
       "       [3, 4]])"
      ]
     },
     "execution_count": 101,
     "metadata": {},
     "output_type": "execute_result"
    }
   ],
   "source": [
    "a"
   ]
  },
  {
   "cell_type": "code",
   "execution_count": 102,
   "id": "3e7452f3",
   "metadata": {
    "execution": {
     "iopub.execute_input": "2022-07-06T19:02:27.724585Z",
     "iopub.status.busy": "2022-07-06T19:02:27.724108Z",
     "iopub.status.idle": "2022-07-06T19:02:27.731523Z",
     "shell.execute_reply": "2022-07-06T19:02:27.730242Z"
    },
    "papermill": {
     "duration": 0.043411,
     "end_time": "2022-07-06T19:02:27.734021",
     "exception": false,
     "start_time": "2022-07-06T19:02:27.690610",
     "status": "completed"
    },
    "tags": []
   },
   "outputs": [
    {
     "data": {
      "text/plain": [
       "(2, 2)"
      ]
     },
     "execution_count": 102,
     "metadata": {},
     "output_type": "execute_result"
    }
   ],
   "source": [
    "a.shape"
   ]
  },
  {
   "cell_type": "code",
   "execution_count": 103,
   "id": "ef54dc3a",
   "metadata": {
    "execution": {
     "iopub.execute_input": "2022-07-06T19:02:27.797876Z",
     "iopub.status.busy": "2022-07-06T19:02:27.797051Z",
     "iopub.status.idle": "2022-07-06T19:02:27.804846Z",
     "shell.execute_reply": "2022-07-06T19:02:27.803818Z"
    },
    "papermill": {
     "duration": 0.042212,
     "end_time": "2022-07-06T19:02:27.807116",
     "exception": false,
     "start_time": "2022-07-06T19:02:27.764904",
     "status": "completed"
    },
    "tags": []
   },
   "outputs": [
    {
     "data": {
      "text/plain": [
       "(2, 1, 2)"
      ]
     },
     "execution_count": 103,
     "metadata": {},
     "output_type": "execute_result"
    }
   ],
   "source": [
    "a[:,np.newaxis].shape # adds a new axis -> 2D"
   ]
  },
  {
   "cell_type": "code",
   "execution_count": 104,
   "id": "58ce1f10",
   "metadata": {
    "execution": {
     "iopub.execute_input": "2022-07-06T19:02:27.872211Z",
     "iopub.status.busy": "2022-07-06T19:02:27.870691Z",
     "iopub.status.idle": "2022-07-06T19:02:27.879674Z",
     "shell.execute_reply": "2022-07-06T19:02:27.878390Z"
    },
    "papermill": {
     "duration": 0.043962,
     "end_time": "2022-07-06T19:02:27.882514",
     "exception": false,
     "start_time": "2022-07-06T19:02:27.838552",
     "status": "completed"
    },
    "tags": []
   },
   "outputs": [
    {
     "data": {
      "text/plain": [
       "array([[1, 2],\n",
       "       [3, 4]])"
      ]
     },
     "execution_count": 104,
     "metadata": {},
     "output_type": "execute_result"
    }
   ],
   "source": [
    "np.sort(a)"
   ]
  },
  {
   "cell_type": "code",
   "execution_count": 105,
   "id": "ce9a8f11",
   "metadata": {
    "execution": {
     "iopub.execute_input": "2022-07-06T19:02:27.947472Z",
     "iopub.status.busy": "2022-07-06T19:02:27.946846Z",
     "iopub.status.idle": "2022-07-06T19:02:27.955595Z",
     "shell.execute_reply": "2022-07-06T19:02:27.954229Z"
    },
    "papermill": {
     "duration": 0.044936,
     "end_time": "2022-07-06T19:02:27.958822",
     "exception": false,
     "start_time": "2022-07-06T19:02:27.913886",
     "status": "completed"
    },
    "tags": []
   },
   "outputs": [
    {
     "data": {
      "text/plain": [
       "array([[0, 1],\n",
       "       [0, 1]])"
      ]
     },
     "execution_count": 105,
     "metadata": {},
     "output_type": "execute_result"
    }
   ],
   "source": [
    "np.argsort(a)"
   ]
  },
  {
   "cell_type": "markdown",
   "id": "a1b44f82",
   "metadata": {
    "papermill": {
     "duration": 0.033043,
     "end_time": "2022-07-06T19:02:28.024554",
     "exception": false,
     "start_time": "2022-07-06T19:02:27.991511",
     "status": "completed"
    },
    "tags": []
   },
   "source": [
    "#### **Thank you so much for reading this notebook HOPE YOU LIKED IT**\n",
    "### **PLEASE UPVOTE and Follow as I am going to upload my complete Machine learning and Deep learning codes**\n"
   ]
  },
  {
   "cell_type": "code",
   "execution_count": null,
   "id": "b9be7f8f",
   "metadata": {
    "papermill": {
     "duration": 0.030195,
     "end_time": "2022-07-06T19:02:28.087841",
     "exception": false,
     "start_time": "2022-07-06T19:02:28.057646",
     "status": "completed"
    },
    "tags": []
   },
   "outputs": [],
   "source": []
  }
 ],
 "metadata": {
  "kernelspec": {
   "display_name": "Python 3",
   "language": "python",
   "name": "python3"
  },
  "language_info": {
   "codemirror_mode": {
    "name": "ipython",
    "version": 3
   },
   "file_extension": ".py",
   "mimetype": "text/x-python",
   "name": "python",
   "nbconvert_exporter": "python",
   "pygments_lexer": "ipython3",
   "version": "3.7.12"
  },
  "papermill": {
   "default_parameters": {},
   "duration": 39.725405,
   "end_time": "2022-07-06T19:02:29.043200",
   "environment_variables": {},
   "exception": null,
   "input_path": "__notebook__.ipynb",
   "output_path": "__notebook__.ipynb",
   "parameters": {},
   "start_time": "2022-07-06T19:01:49.317795",
   "version": "2.3.4"
  }
 },
 "nbformat": 4,
 "nbformat_minor": 5
}
